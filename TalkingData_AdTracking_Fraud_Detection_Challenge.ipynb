{
  "nbformat": 4,
  "nbformat_minor": 0,
  "metadata": {
    "colab": {
      "name": "TalkingData_AdTracking_Fraud_Detection_Challenge.ipynb",
      "version": "0.3.2",
      "provenance": [],
      "collapsed_sections": [],
      "include_colab_link": true
    },
    "kernelspec": {
      "name": "python3",
      "display_name": "Python 3"
    },
    "accelerator": "GPU"
  },
  "cells": [
    {
      "cell_type": "markdown",
      "metadata": {
        "id": "view-in-github",
        "colab_type": "text"
      },
      "source": [
        "<a href=\"https://colab.research.google.com/github/melancholymans/Bonanza/blob/master/TalkingData_AdTracking_Fraud_Detection_Challenge.ipynb\" target=\"_parent\"><img src=\"https://colab.research.google.com/assets/colab-badge.svg\" alt=\"Open In Colab\"/></a>"
      ]
    },
    {
      "cell_type": "markdown",
      "metadata": {
        "id": "vZq7Z0n6IPQz",
        "colab_type": "text"
      },
      "source": [
        "TalkingData_AdTracking_Fraud_Detection_Challenge"
      ]
    },
    {
      "cell_type": "code",
      "metadata": {
        "id": "YstAXrEkIEXb",
        "colab_type": "code",
        "colab": {}
      },
      "source": [
        "import pandas as pd\n",
        "import numpy as np\n",
        "import matplotlib.pyplot as plt"
      ],
      "execution_count": 0,
      "outputs": []
    },
    {
      "cell_type": "code",
      "metadata": {
        "id": "8e4dBs0CIiaT",
        "colab_type": "code",
        "colab": {}
      },
      "source": [
        "A = np.array([[-0.259255,0.637216],\n",
        "                     [-0.163380,0.676041],\n",
        "                     [0.681100,0.122803],\n",
        "                     [0.483628,0.075390],\n",
        "                     [0.456400,0.340823]])\n",
        "B = np.array([[2.400068,0.0],\n",
        "             [0.0,3.127071]])\n",
        "C = np.array([[-0.054005,-0.284113,0.675451,0.473945,0.485289],\n",
        "            [0.745145,0.623738,0.172371,0.148262,0.063380]])"
      ],
      "execution_count": 0,
      "outputs": []
    },
    {
      "cell_type": "code",
      "metadata": {
        "id": "Lfj_tQvhJri2",
        "colab_type": "code",
        "colab": {
          "base_uri": "https://localhost:8080/",
          "height": 264
        },
        "outputId": "15913346-fca1-451b-cfa1-c6e97bb820d0"
      },
      "source": [
        "Z=A@B@C\n",
        "print(A.shape)\n",
        "print(B.shape)\n",
        "print(C.shape)\n",
        "print(Z.shape)\n",
        "df = pd.DataFrame(Z)\n",
        "\n",
        "df"
      ],
      "execution_count": 3,
      "outputs": [
        {
          "output_type": "stream",
          "text": [
            "(5, 2)\n",
            "(2, 2)\n",
            "(2, 5)\n",
            "(5, 5)\n"
          ],
          "name": "stdout"
        },
        {
          "output_type": "execute_result",
          "data": {
            "text/html": [
              "<div>\n",
              "<style scoped>\n",
              "    .dataframe tbody tr th:only-of-type {\n",
              "        vertical-align: middle;\n",
              "    }\n",
              "\n",
              "    .dataframe tbody tr th {\n",
              "        vertical-align: top;\n",
              "    }\n",
              "\n",
              "    .dataframe thead th {\n",
              "        text-align: right;\n",
              "    }\n",
              "</style>\n",
              "<table border=\"1\" class=\"dataframe\">\n",
              "  <thead>\n",
              "    <tr style=\"text-align: right;\">\n",
              "      <th></th>\n",
              "      <th>0</th>\n",
              "      <th>1</th>\n",
              "      <th>2</th>\n",
              "      <th>3</th>\n",
              "      <th>4</th>\n",
              "    </tr>\n",
              "  </thead>\n",
              "  <tbody>\n",
              "    <tr>\n",
              "      <th>0</th>\n",
              "      <td>1.518394</td>\n",
              "      <td>1.419656</td>\n",
              "      <td>-0.076816</td>\n",
              "      <td>0.000527</td>\n",
              "      <td>-0.175669</td>\n",
              "    </tr>\n",
              "    <tr>\n",
              "      <th>1</th>\n",
              "      <td>1.596434</td>\n",
              "      <td>1.430007</td>\n",
              "      <td>0.099537</td>\n",
              "      <td>0.127585</td>\n",
              "      <td>-0.056306</td>\n",
              "    </tr>\n",
              "    <tr>\n",
              "      <th>2</th>\n",
              "      <td>0.197865</td>\n",
              "      <td>-0.224912</td>\n",
              "      <td>1.170343</td>\n",
              "      <td>0.831686</td>\n",
              "      <td>0.817634</td>\n",
              "    </tr>\n",
              "    <tr>\n",
              "      <th>3</th>\n",
              "      <td>0.112982</td>\n",
              "      <td>-0.182735</td>\n",
              "      <td>0.824659</td>\n",
              "      <td>0.585080</td>\n",
              "      <td>0.578236</td>\n",
              "    </tr>\n",
              "    <tr>\n",
              "      <th>4</th>\n",
              "      <td>0.735002</td>\n",
              "      <td>0.353551</td>\n",
              "      <td>0.923592</td>\n",
              "      <td>0.677169</td>\n",
              "      <td>0.599130</td>\n",
              "    </tr>\n",
              "  </tbody>\n",
              "</table>\n",
              "</div>"
            ],
            "text/plain": [
              "          0         1         2         3         4\n",
              "0  1.518394  1.419656 -0.076816  0.000527 -0.175669\n",
              "1  1.596434  1.430007  0.099537  0.127585 -0.056306\n",
              "2  0.197865 -0.224912  1.170343  0.831686  0.817634\n",
              "3  0.112982 -0.182735  0.824659  0.585080  0.578236\n",
              "4  0.735002  0.353551  0.923592  0.677169  0.599130"
            ]
          },
          "metadata": {
            "tags": []
          },
          "execution_count": 3
        }
      ]
    },
    {
      "cell_type": "markdown",
      "metadata": {
        "id": "SoCTajQMaQmg",
        "colab_type": "text"
      },
      "source": [
        "https://www.rco.recruit.co.jp/career/engineer/blog/kaggle_talkingdata_basic/\n",
        "\n",
        "## Kaggle TalkingData Fraud Detection コンペの解法まとめ(基本編)\n",
        "\n",
        "こんにちは。今年2018年4月より新卒でRCOに入社した松田です。\n",
        "\n",
        "kaggle というデータ分析のコンペティション運営サイトが流行っていますが、 RCOでも「kaggle部」という形で積極的に参加しています。\n",
        "\n",
        "今回私は TalkingData AdTracking Fraud Detection Challenge というコンペティションに参加したので、そこで得た知見を共有したいと思います。\n",
        "\n",
        "\n",
        "- カラム名\t意味\t種類\t例(筆者の想像)\n",
        "- ip\tユーザーのIPアドレス\t110116\t192.168.0.1\n",
        "- app\t広告が宣伝するモバイルアプリ\t348\tパズルクエスト\n",
        "- device\tユーザーの端末\t749\tiPhone7\n",
        "- os\tユーザーのOS (versionも区別)\t244\tiOS 11.3.1\n",
        "- channel\t広告媒体のチャネル\t177\tラッキーニュース\n",
        "- click_time\t広告がクリックされた時刻(UTC)\t-\t-\n"
      ]
    },
    {
      "cell_type": "code",
      "metadata": {
        "id": "8187Ib_nKpSk",
        "colab_type": "code",
        "outputId": "27d7fb65-3526-4e37-e8c1-c3d7635f2441",
        "colab": {
          "base_uri": "https://localhost:8080/",
          "height": 120
        }
      },
      "source": [
        "from google.colab import drive\n",
        "drive.mount('/content/drive')"
      ],
      "execution_count": 4,
      "outputs": [
        {
          "output_type": "stream",
          "text": [
            "Go to this URL in a browser: https://accounts.google.com/o/oauth2/auth?client_id=947318989803-6bn6qk8qdgf4n4g3pfee6491hc0brc4i.apps.googleusercontent.com&redirect_uri=urn%3Aietf%3Awg%3Aoauth%3A2.0%3Aoob&scope=email%20https%3A%2F%2Fwww.googleapis.com%2Fauth%2Fdocs.test%20https%3A%2F%2Fwww.googleapis.com%2Fauth%2Fdrive%20https%3A%2F%2Fwww.googleapis.com%2Fauth%2Fdrive.photos.readonly%20https%3A%2F%2Fwww.googleapis.com%2Fauth%2Fpeopleapi.readonly&response_type=code\n",
            "\n",
            "Enter your authorization code:\n",
            "··········\n",
            "Mounted at /content/drive\n"
          ],
          "name": "stdout"
        }
      ]
    },
    {
      "cell_type": "code",
      "metadata": {
        "id": "APlex9xeX86o",
        "colab_type": "code",
        "colab": {
          "base_uri": "https://localhost:8080/",
          "height": 53
        },
        "outputId": "e3470698-e4d6-4d05-ddd5-4e0de71afe3d"
      },
      "source": [
        "\"\"\"\n",
        "\n",
        "train.csvファイルがでかくてread_csv関数では呼び込めないのでawkでis_attributedが1であるファイルを抽出したプログラム(clearn.awk)を作った\n",
        "同じくヘッダーがわからなかったので３行未満だけ読み出すhead.awkを作った\n",
        "\n",
        "-head.awk\n",
        "# >awk -f head.awk train.csv \n",
        "BEGIN{\n",
        "    FS = \",\"\n",
        "}\n",
        "NR < 3 {\n",
        "    print $0\n",
        "}\n",
        "\n",
        "\n",
        "- clearn.awk\n",
        "# >awk -f head.awk train.csv \n",
        "# ip,app,device,os,channel,click_time,attributed_time,is_attributed\n",
        "BEGIN {\n",
        "    FS = \",\"\n",
        "    count = 0\n",
        "}\n",
        "$8 == \"0\"{\n",
        "    print $0;\n",
        "    if (count > 460000) exit;\n",
        "    count = count + 1;\n",
        "}\n",
        "\"\"\"\n"
      ],
      "execution_count": 5,
      "outputs": [
        {
          "output_type": "execute_result",
          "data": {
            "text/plain": [
              "'\\n\\ntrain.csvファイルがでかくてread_csv関数では呼び込めないのでawkでis_attributedが1であるファイルを抽出したプログラム(clearn.awk)を作った\\n同じくヘッダーがわからなかったので３行未満だけ読み出すhead.awkを作った\\n\\n-head.awk\\n# >awk -f head.awk train.csv \\nBEGIN{\\n    FS = \",\"\\n}\\nNR < 3 {\\n    print $0\\n}\\n\\n\\n- clearn.awk\\n# >awk -f head.awk train.csv \\n# ip,app,device,os,channel,click_time,attributed_time,is_attributed\\nBEGIN {\\n    FS = \",\"\\n    count = 0\\n}\\n$8 == \"0\"{\\n    print $0;\\n    if (count > 460000) exit;\\n    count = count + 1;\\n}\\n'"
            ]
          },
          "metadata": {
            "tags": []
          },
          "execution_count": 5
        }
      ]
    },
    {
      "cell_type": "code",
      "metadata": {
        "id": "awwBf33lLe2P",
        "colab_type": "code",
        "colab": {}
      },
      "source": [
        "base_path = 'drive/My Drive/Colab Notebooks/kaggle/TalkingData_AdTracking_Fraud_Detection_Challenge/input/'"
      ],
      "execution_count": 0,
      "outputs": []
    },
    {
      "cell_type": "code",
      "metadata": {
        "id": "uqGImpq0LuK3",
        "colab_type": "code",
        "outputId": "56023298-4c0c-4c94-b38c-8c126854fc82",
        "colab": {
          "base_uri": "https://localhost:8080/",
          "height": 50
        }
      },
      "source": [
        "df = pd.read_csv(base_path+'train.csv',encoding='utf-16')"
      ],
      "execution_count": 7,
      "outputs": [
        {
          "output_type": "stream",
          "text": [
            "/usr/local/lib/python3.6/dist-packages/IPython/core/interactiveshell.py:2718: DtypeWarning: Columns (6) have mixed types. Specify dtype option on import or set low_memory=False.\n",
            "  interactivity=interactivity, compiler=compiler, result=result)\n"
          ],
          "name": "stderr"
        }
      ]
    },
    {
      "cell_type": "code",
      "metadata": {
        "id": "yFkVTZmzQ23o",
        "colab_type": "code",
        "outputId": "0661a33c-8dda-43d5-ef04-99f0626224c9",
        "colab": {
          "base_uri": "https://localhost:8080/",
          "height": 197
        }
      },
      "source": [
        "df.head()"
      ],
      "execution_count": 8,
      "outputs": [
        {
          "output_type": "execute_result",
          "data": {
            "text/html": [
              "<div>\n",
              "<style scoped>\n",
              "    .dataframe tbody tr th:only-of-type {\n",
              "        vertical-align: middle;\n",
              "    }\n",
              "\n",
              "    .dataframe tbody tr th {\n",
              "        vertical-align: top;\n",
              "    }\n",
              "\n",
              "    .dataframe thead th {\n",
              "        text-align: right;\n",
              "    }\n",
              "</style>\n",
              "<table border=\"1\" class=\"dataframe\">\n",
              "  <thead>\n",
              "    <tr style=\"text-align: right;\">\n",
              "      <th></th>\n",
              "      <th>ip</th>\n",
              "      <th>app</th>\n",
              "      <th>device</th>\n",
              "      <th>os</th>\n",
              "      <th>channel</th>\n",
              "      <th>click_time</th>\n",
              "      <th>attributed_time</th>\n",
              "      <th>is_attributed</th>\n",
              "    </tr>\n",
              "  </thead>\n",
              "  <tbody>\n",
              "    <tr>\n",
              "      <th>0</th>\n",
              "      <td>204158</td>\n",
              "      <td>35</td>\n",
              "      <td>1</td>\n",
              "      <td>13</td>\n",
              "      <td>21</td>\n",
              "      <td>2017-11-06 15:41:07</td>\n",
              "      <td>2017-11-07 08:17:19</td>\n",
              "      <td>1</td>\n",
              "    </tr>\n",
              "    <tr>\n",
              "      <th>1</th>\n",
              "      <td>29692</td>\n",
              "      <td>9</td>\n",
              "      <td>1</td>\n",
              "      <td>22</td>\n",
              "      <td>215</td>\n",
              "      <td>2017-11-06 16:00:02</td>\n",
              "      <td>2017-11-07 10:05:22</td>\n",
              "      <td>1</td>\n",
              "    </tr>\n",
              "    <tr>\n",
              "      <th>2</th>\n",
              "      <td>64516</td>\n",
              "      <td>35</td>\n",
              "      <td>1</td>\n",
              "      <td>13</td>\n",
              "      <td>21</td>\n",
              "      <td>2017-11-06 16:00:02</td>\n",
              "      <td>2017-11-06 23:40:50</td>\n",
              "      <td>1</td>\n",
              "    </tr>\n",
              "    <tr>\n",
              "      <th>3</th>\n",
              "      <td>172429</td>\n",
              "      <td>35</td>\n",
              "      <td>1</td>\n",
              "      <td>46</td>\n",
              "      <td>274</td>\n",
              "      <td>2017-11-06 16:00:03</td>\n",
              "      <td>2017-11-07 00:55:29</td>\n",
              "      <td>1</td>\n",
              "    </tr>\n",
              "    <tr>\n",
              "      <th>4</th>\n",
              "      <td>199085</td>\n",
              "      <td>35</td>\n",
              "      <td>1</td>\n",
              "      <td>13</td>\n",
              "      <td>274</td>\n",
              "      <td>2017-11-06 16:00:04</td>\n",
              "      <td>2017-11-06 23:04:54</td>\n",
              "      <td>1</td>\n",
              "    </tr>\n",
              "  </tbody>\n",
              "</table>\n",
              "</div>"
            ],
            "text/plain": [
              "       ip  app  device  ...           click_time      attributed_time is_attributed\n",
              "0  204158   35       1  ...  2017-11-06 15:41:07  2017-11-07 08:17:19             1\n",
              "1   29692    9       1  ...  2017-11-06 16:00:02  2017-11-07 10:05:22             1\n",
              "2   64516   35       1  ...  2017-11-06 16:00:02  2017-11-06 23:40:50             1\n",
              "3  172429   35       1  ...  2017-11-06 16:00:03  2017-11-07 00:55:29             1\n",
              "4  199085   35       1  ...  2017-11-06 16:00:04  2017-11-06 23:04:54             1\n",
              "\n",
              "[5 rows x 8 columns]"
            ]
          },
          "metadata": {
            "tags": []
          },
          "execution_count": 8
        }
      ]
    },
    {
      "cell_type": "code",
      "metadata": {
        "id": "E_XVHVjsVpl3",
        "colab_type": "code",
        "outputId": "dd14da1e-e85d-45b0-827e-7f2ad078e82d",
        "colab": {
          "base_uri": "https://localhost:8080/",
          "height": 50
        }
      },
      "source": [
        "aggregation = {'app':{'ip_count' : 'count'}}\n",
        "\n",
        "df1= df.groupby(['ip']).agg(aggregation).reset_index()"
      ],
      "execution_count": 9,
      "outputs": [
        {
          "output_type": "stream",
          "text": [
            "/usr/local/lib/python3.6/dist-packages/pandas/core/groupby/generic.py:1315: FutureWarning: using a dict with renaming is deprecated and will be removed in a future version\n",
            "  return super(DataFrameGroupBy, self).aggregate(arg, *args, **kwargs)\n"
          ],
          "name": "stderr"
        }
      ]
    },
    {
      "cell_type": "code",
      "metadata": {
        "id": "qxn9lKE4nEjw",
        "colab_type": "code",
        "outputId": "ac25ebcb-dbcd-4337-fd46-41886d88b13f",
        "colab": {
          "base_uri": "https://localhost:8080/",
          "height": 227
        }
      },
      "source": [
        "df1.head()"
      ],
      "execution_count": 10,
      "outputs": [
        {
          "output_type": "execute_result",
          "data": {
            "text/html": [
              "<div>\n",
              "<style scoped>\n",
              "    .dataframe tbody tr th:only-of-type {\n",
              "        vertical-align: middle;\n",
              "    }\n",
              "\n",
              "    .dataframe tbody tr th {\n",
              "        vertical-align: top;\n",
              "    }\n",
              "\n",
              "    .dataframe thead tr th {\n",
              "        text-align: left;\n",
              "    }\n",
              "</style>\n",
              "<table border=\"1\" class=\"dataframe\">\n",
              "  <thead>\n",
              "    <tr>\n",
              "      <th></th>\n",
              "      <th>ip</th>\n",
              "      <th>app</th>\n",
              "    </tr>\n",
              "    <tr>\n",
              "      <th></th>\n",
              "      <th></th>\n",
              "      <th>ip_count</th>\n",
              "    </tr>\n",
              "  </thead>\n",
              "  <tbody>\n",
              "    <tr>\n",
              "      <th>0</th>\n",
              "      <td>1</td>\n",
              "      <td>9</td>\n",
              "    </tr>\n",
              "    <tr>\n",
              "      <th>1</th>\n",
              "      <td>6</td>\n",
              "      <td>2</td>\n",
              "    </tr>\n",
              "    <tr>\n",
              "      <th>2</th>\n",
              "      <td>9</td>\n",
              "      <td>8</td>\n",
              "    </tr>\n",
              "    <tr>\n",
              "      <th>3</th>\n",
              "      <td>10</td>\n",
              "      <td>4</td>\n",
              "    </tr>\n",
              "    <tr>\n",
              "      <th>4</th>\n",
              "      <td>19</td>\n",
              "      <td>4</td>\n",
              "    </tr>\n",
              "  </tbody>\n",
              "</table>\n",
              "</div>"
            ],
            "text/plain": [
              "   ip      app\n",
              "      ip_count\n",
              "0   1        9\n",
              "1   6        2\n",
              "2   9        8\n",
              "3  10        4\n",
              "4  19        4"
            ]
          },
          "metadata": {
            "tags": []
          },
          "execution_count": 10
        }
      ]
    },
    {
      "cell_type": "code",
      "metadata": {
        "id": "rrXMAVFOvnGJ",
        "colab_type": "code",
        "outputId": "94f133fa-1b3a-46e3-c894-fb3ca58752e7",
        "colab": {
          "base_uri": "https://localhost:8080/",
          "height": 197
        }
      },
      "source": [
        "df.head()"
      ],
      "execution_count": 11,
      "outputs": [
        {
          "output_type": "execute_result",
          "data": {
            "text/html": [
              "<div>\n",
              "<style scoped>\n",
              "    .dataframe tbody tr th:only-of-type {\n",
              "        vertical-align: middle;\n",
              "    }\n",
              "\n",
              "    .dataframe tbody tr th {\n",
              "        vertical-align: top;\n",
              "    }\n",
              "\n",
              "    .dataframe thead th {\n",
              "        text-align: right;\n",
              "    }\n",
              "</style>\n",
              "<table border=\"1\" class=\"dataframe\">\n",
              "  <thead>\n",
              "    <tr style=\"text-align: right;\">\n",
              "      <th></th>\n",
              "      <th>ip</th>\n",
              "      <th>app</th>\n",
              "      <th>device</th>\n",
              "      <th>os</th>\n",
              "      <th>channel</th>\n",
              "      <th>click_time</th>\n",
              "      <th>attributed_time</th>\n",
              "      <th>is_attributed</th>\n",
              "    </tr>\n",
              "  </thead>\n",
              "  <tbody>\n",
              "    <tr>\n",
              "      <th>0</th>\n",
              "      <td>204158</td>\n",
              "      <td>35</td>\n",
              "      <td>1</td>\n",
              "      <td>13</td>\n",
              "      <td>21</td>\n",
              "      <td>2017-11-06 15:41:07</td>\n",
              "      <td>2017-11-07 08:17:19</td>\n",
              "      <td>1</td>\n",
              "    </tr>\n",
              "    <tr>\n",
              "      <th>1</th>\n",
              "      <td>29692</td>\n",
              "      <td>9</td>\n",
              "      <td>1</td>\n",
              "      <td>22</td>\n",
              "      <td>215</td>\n",
              "      <td>2017-11-06 16:00:02</td>\n",
              "      <td>2017-11-07 10:05:22</td>\n",
              "      <td>1</td>\n",
              "    </tr>\n",
              "    <tr>\n",
              "      <th>2</th>\n",
              "      <td>64516</td>\n",
              "      <td>35</td>\n",
              "      <td>1</td>\n",
              "      <td>13</td>\n",
              "      <td>21</td>\n",
              "      <td>2017-11-06 16:00:02</td>\n",
              "      <td>2017-11-06 23:40:50</td>\n",
              "      <td>1</td>\n",
              "    </tr>\n",
              "    <tr>\n",
              "      <th>3</th>\n",
              "      <td>172429</td>\n",
              "      <td>35</td>\n",
              "      <td>1</td>\n",
              "      <td>46</td>\n",
              "      <td>274</td>\n",
              "      <td>2017-11-06 16:00:03</td>\n",
              "      <td>2017-11-07 00:55:29</td>\n",
              "      <td>1</td>\n",
              "    </tr>\n",
              "    <tr>\n",
              "      <th>4</th>\n",
              "      <td>199085</td>\n",
              "      <td>35</td>\n",
              "      <td>1</td>\n",
              "      <td>13</td>\n",
              "      <td>274</td>\n",
              "      <td>2017-11-06 16:00:04</td>\n",
              "      <td>2017-11-06 23:04:54</td>\n",
              "      <td>1</td>\n",
              "    </tr>\n",
              "  </tbody>\n",
              "</table>\n",
              "</div>"
            ],
            "text/plain": [
              "       ip  app  device  ...           click_time      attributed_time is_attributed\n",
              "0  204158   35       1  ...  2017-11-06 15:41:07  2017-11-07 08:17:19             1\n",
              "1   29692    9       1  ...  2017-11-06 16:00:02  2017-11-07 10:05:22             1\n",
              "2   64516   35       1  ...  2017-11-06 16:00:02  2017-11-06 23:40:50             1\n",
              "3  172429   35       1  ...  2017-11-06 16:00:03  2017-11-07 00:55:29             1\n",
              "4  199085   35       1  ...  2017-11-06 16:00:04  2017-11-06 23:04:54             1\n",
              "\n",
              "[5 rows x 8 columns]"
            ]
          },
          "metadata": {
            "tags": []
          },
          "execution_count": 11
        }
      ]
    },
    {
      "cell_type": "code",
      "metadata": {
        "id": "9ZjaFsVGjHyY",
        "colab_type": "code",
        "outputId": "31861f49-1880-42b8-a096-70f7653204a8",
        "colab": {
          "base_uri": "https://localhost:8080/",
          "height": 103
        }
      },
      "source": [
        "# test_dfとagg_dataのstoreid_id、dowをすり合わせmergeさせる\n",
        "merged = pd.merge(df, df1, how='left', left_on=['ip'], right_on=['ip'])"
      ],
      "execution_count": 12,
      "outputs": [
        {
          "output_type": "stream",
          "text": [
            "/usr/local/lib/python3.6/dist-packages/pandas/core/reshape/merge.py:522: UserWarning: merging between different levels can give an unintended result (1 levels on the left, 2 on the right)\n",
            "  warnings.warn(msg, UserWarning)\n",
            "/usr/local/lib/python3.6/dist-packages/pandas/core/generic.py:3812: PerformanceWarning: dropping on a non-lexsorted multi-index without a level parameter may impact performance.\n",
            "  new_axis = axis.drop(labels, errors=errors)\n"
          ],
          "name": "stderr"
        }
      ]
    },
    {
      "cell_type": "code",
      "metadata": {
        "id": "IBAwyU0qgK3x",
        "colab_type": "code",
        "outputId": "f0bf0fd5-3ec1-4107-9de2-92593e38db4e",
        "colab": {
          "base_uri": "https://localhost:8080/",
          "height": 197
        }
      },
      "source": [
        "merged.head()"
      ],
      "execution_count": 13,
      "outputs": [
        {
          "output_type": "execute_result",
          "data": {
            "text/html": [
              "<div>\n",
              "<style scoped>\n",
              "    .dataframe tbody tr th:only-of-type {\n",
              "        vertical-align: middle;\n",
              "    }\n",
              "\n",
              "    .dataframe tbody tr th {\n",
              "        vertical-align: top;\n",
              "    }\n",
              "\n",
              "    .dataframe thead th {\n",
              "        text-align: right;\n",
              "    }\n",
              "</style>\n",
              "<table border=\"1\" class=\"dataframe\">\n",
              "  <thead>\n",
              "    <tr style=\"text-align: right;\">\n",
              "      <th></th>\n",
              "      <th>ip</th>\n",
              "      <th>app</th>\n",
              "      <th>device</th>\n",
              "      <th>os</th>\n",
              "      <th>channel</th>\n",
              "      <th>click_time</th>\n",
              "      <th>attributed_time</th>\n",
              "      <th>is_attributed</th>\n",
              "      <th>(app, ip_count)</th>\n",
              "    </tr>\n",
              "  </thead>\n",
              "  <tbody>\n",
              "    <tr>\n",
              "      <th>0</th>\n",
              "      <td>204158</td>\n",
              "      <td>35</td>\n",
              "      <td>1</td>\n",
              "      <td>13</td>\n",
              "      <td>21</td>\n",
              "      <td>2017-11-06 15:41:07</td>\n",
              "      <td>2017-11-07 08:17:19</td>\n",
              "      <td>1</td>\n",
              "      <td>1</td>\n",
              "    </tr>\n",
              "    <tr>\n",
              "      <th>1</th>\n",
              "      <td>29692</td>\n",
              "      <td>9</td>\n",
              "      <td>1</td>\n",
              "      <td>22</td>\n",
              "      <td>215</td>\n",
              "      <td>2017-11-06 16:00:02</td>\n",
              "      <td>2017-11-07 10:05:22</td>\n",
              "      <td>1</td>\n",
              "      <td>11</td>\n",
              "    </tr>\n",
              "    <tr>\n",
              "      <th>2</th>\n",
              "      <td>64516</td>\n",
              "      <td>35</td>\n",
              "      <td>1</td>\n",
              "      <td>13</td>\n",
              "      <td>21</td>\n",
              "      <td>2017-11-06 16:00:02</td>\n",
              "      <td>2017-11-06 23:40:50</td>\n",
              "      <td>1</td>\n",
              "      <td>88</td>\n",
              "    </tr>\n",
              "    <tr>\n",
              "      <th>3</th>\n",
              "      <td>172429</td>\n",
              "      <td>35</td>\n",
              "      <td>1</td>\n",
              "      <td>46</td>\n",
              "      <td>274</td>\n",
              "      <td>2017-11-06 16:00:03</td>\n",
              "      <td>2017-11-07 00:55:29</td>\n",
              "      <td>1</td>\n",
              "      <td>2</td>\n",
              "    </tr>\n",
              "    <tr>\n",
              "      <th>4</th>\n",
              "      <td>199085</td>\n",
              "      <td>35</td>\n",
              "      <td>1</td>\n",
              "      <td>13</td>\n",
              "      <td>274</td>\n",
              "      <td>2017-11-06 16:00:04</td>\n",
              "      <td>2017-11-06 23:04:54</td>\n",
              "      <td>1</td>\n",
              "      <td>4</td>\n",
              "    </tr>\n",
              "  </tbody>\n",
              "</table>\n",
              "</div>"
            ],
            "text/plain": [
              "       ip  app  device  ...      attributed_time  is_attributed (app, ip_count)\n",
              "0  204158   35       1  ...  2017-11-07 08:17:19              1               1\n",
              "1   29692    9       1  ...  2017-11-07 10:05:22              1              11\n",
              "2   64516   35       1  ...  2017-11-06 23:40:50              1              88\n",
              "3  172429   35       1  ...  2017-11-07 00:55:29              1               2\n",
              "4  199085   35       1  ...  2017-11-06 23:04:54              1               4\n",
              "\n",
              "[5 rows x 9 columns]"
            ]
          },
          "metadata": {
            "tags": []
          },
          "execution_count": 13
        }
      ]
    },
    {
      "cell_type": "code",
      "metadata": {
        "id": "5a9hQb3zcUC4",
        "colab_type": "code",
        "outputId": "c394ccad-f80a-4a18-8948-66ee096bff9f",
        "colab": {
          "base_uri": "https://localhost:8080/",
          "height": 377
        }
      },
      "source": [
        "merged[merged['ip']==29692]"
      ],
      "execution_count": 14,
      "outputs": [
        {
          "output_type": "execute_result",
          "data": {
            "text/html": [
              "<div>\n",
              "<style scoped>\n",
              "    .dataframe tbody tr th:only-of-type {\n",
              "        vertical-align: middle;\n",
              "    }\n",
              "\n",
              "    .dataframe tbody tr th {\n",
              "        vertical-align: top;\n",
              "    }\n",
              "\n",
              "    .dataframe thead th {\n",
              "        text-align: right;\n",
              "    }\n",
              "</style>\n",
              "<table border=\"1\" class=\"dataframe\">\n",
              "  <thead>\n",
              "    <tr style=\"text-align: right;\">\n",
              "      <th></th>\n",
              "      <th>ip</th>\n",
              "      <th>app</th>\n",
              "      <th>device</th>\n",
              "      <th>os</th>\n",
              "      <th>channel</th>\n",
              "      <th>click_time</th>\n",
              "      <th>attributed_time</th>\n",
              "      <th>is_attributed</th>\n",
              "      <th>(app, ip_count)</th>\n",
              "    </tr>\n",
              "  </thead>\n",
              "  <tbody>\n",
              "    <tr>\n",
              "      <th>1</th>\n",
              "      <td>29692</td>\n",
              "      <td>9</td>\n",
              "      <td>1</td>\n",
              "      <td>22</td>\n",
              "      <td>215</td>\n",
              "      <td>2017-11-06 16:00:02</td>\n",
              "      <td>2017-11-07 10:05:22</td>\n",
              "      <td>1</td>\n",
              "      <td>11</td>\n",
              "    </tr>\n",
              "    <tr>\n",
              "      <th>148584</th>\n",
              "      <td>29692</td>\n",
              "      <td>19</td>\n",
              "      <td>6</td>\n",
              "      <td>29</td>\n",
              "      <td>213</td>\n",
              "      <td>2017-11-07 15:02:06</td>\n",
              "      <td>2017-11-07 15:03:09</td>\n",
              "      <td>1</td>\n",
              "      <td>11</td>\n",
              "    </tr>\n",
              "    <tr>\n",
              "      <th>154679</th>\n",
              "      <td>29692</td>\n",
              "      <td>84</td>\n",
              "      <td>0</td>\n",
              "      <td>24</td>\n",
              "      <td>101</td>\n",
              "      <td>2017-11-07 16:37:07</td>\n",
              "      <td>2017-11-08 04:53:50</td>\n",
              "      <td>1</td>\n",
              "      <td>11</td>\n",
              "    </tr>\n",
              "    <tr>\n",
              "      <th>342785</th>\n",
              "      <td>29692</td>\n",
              "      <td>27</td>\n",
              "      <td>1</td>\n",
              "      <td>47</td>\n",
              "      <td>122</td>\n",
              "      <td>2017-11-09 02:33:53</td>\n",
              "      <td>2017-11-09 15:07:47</td>\n",
              "      <td>1</td>\n",
              "      <td>11</td>\n",
              "    </tr>\n",
              "    <tr>\n",
              "      <th>531920</th>\n",
              "      <td>29692</td>\n",
              "      <td>12</td>\n",
              "      <td>1</td>\n",
              "      <td>22</td>\n",
              "      <td>178</td>\n",
              "      <td>2017-11-06 16:01:20</td>\n",
              "      <td>NaN</td>\n",
              "      <td>0</td>\n",
              "      <td>11</td>\n",
              "    </tr>\n",
              "    <tr>\n",
              "      <th>594116</th>\n",
              "      <td>29692</td>\n",
              "      <td>3</td>\n",
              "      <td>1</td>\n",
              "      <td>19</td>\n",
              "      <td>280</td>\n",
              "      <td>2017-11-06 16:02:32</td>\n",
              "      <td>NaN</td>\n",
              "      <td>0</td>\n",
              "      <td>11</td>\n",
              "    </tr>\n",
              "    <tr>\n",
              "      <th>594145</th>\n",
              "      <td>29692</td>\n",
              "      <td>12</td>\n",
              "      <td>1</td>\n",
              "      <td>19</td>\n",
              "      <td>178</td>\n",
              "      <td>2017-11-06 16:02:32</td>\n",
              "      <td>NaN</td>\n",
              "      <td>0</td>\n",
              "      <td>11</td>\n",
              "    </tr>\n",
              "    <tr>\n",
              "      <th>594168</th>\n",
              "      <td>29692</td>\n",
              "      <td>9</td>\n",
              "      <td>1</td>\n",
              "      <td>19</td>\n",
              "      <td>215</td>\n",
              "      <td>2017-11-06 16:02:32</td>\n",
              "      <td>NaN</td>\n",
              "      <td>0</td>\n",
              "      <td>11</td>\n",
              "    </tr>\n",
              "    <tr>\n",
              "      <th>594174</th>\n",
              "      <td>29692</td>\n",
              "      <td>9</td>\n",
              "      <td>1</td>\n",
              "      <td>19</td>\n",
              "      <td>134</td>\n",
              "      <td>2017-11-06 16:02:32</td>\n",
              "      <td>NaN</td>\n",
              "      <td>0</td>\n",
              "      <td>11</td>\n",
              "    </tr>\n",
              "    <tr>\n",
              "      <th>595965</th>\n",
              "      <td>29692</td>\n",
              "      <td>3</td>\n",
              "      <td>1</td>\n",
              "      <td>19</td>\n",
              "      <td>137</td>\n",
              "      <td>2017-11-06 16:02:34</td>\n",
              "      <td>NaN</td>\n",
              "      <td>0</td>\n",
              "      <td>11</td>\n",
              "    </tr>\n",
              "    <tr>\n",
              "      <th>597824</th>\n",
              "      <td>29692</td>\n",
              "      <td>3</td>\n",
              "      <td>1</td>\n",
              "      <td>19</td>\n",
              "      <td>137</td>\n",
              "      <td>2017-11-06 16:02:36</td>\n",
              "      <td>NaN</td>\n",
              "      <td>0</td>\n",
              "      <td>11</td>\n",
              "    </tr>\n",
              "  </tbody>\n",
              "</table>\n",
              "</div>"
            ],
            "text/plain": [
              "           ip  app  device  ...      attributed_time  is_attributed (app, ip_count)\n",
              "1       29692    9       1  ...  2017-11-07 10:05:22              1              11\n",
              "148584  29692   19       6  ...  2017-11-07 15:03:09              1              11\n",
              "154679  29692   84       0  ...  2017-11-08 04:53:50              1              11\n",
              "342785  29692   27       1  ...  2017-11-09 15:07:47              1              11\n",
              "531920  29692   12       1  ...                  NaN              0              11\n",
              "594116  29692    3       1  ...                  NaN              0              11\n",
              "594145  29692   12       1  ...                  NaN              0              11\n",
              "594168  29692    9       1  ...                  NaN              0              11\n",
              "594174  29692    9       1  ...                  NaN              0              11\n",
              "595965  29692    3       1  ...                  NaN              0              11\n",
              "597824  29692    3       1  ...                  NaN              0              11\n",
              "\n",
              "[11 rows x 9 columns]"
            ]
          },
          "metadata": {
            "tags": []
          },
          "execution_count": 14
        }
      ]
    },
    {
      "cell_type": "code",
      "metadata": {
        "id": "C478DqehwNQo",
        "colab_type": "code",
        "colab": {}
      },
      "source": [
        ""
      ],
      "execution_count": 0,
      "outputs": []
    }
  ]
}