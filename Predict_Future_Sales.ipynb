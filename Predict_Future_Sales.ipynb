{
  "nbformat": 4,
  "nbformat_minor": 0,
  "metadata": {
    "colab": {
      "name": "Predict_Future_Sales.ipynb",
      "version": "0.3.2",
      "provenance": [],
      "collapsed_sections": [],
      "include_colab_link": true
    },
    "kernelspec": {
      "name": "python3",
      "display_name": "Python 3"
    },
    "accelerator": "GPU"
  },
  "cells": [
    {
      "cell_type": "markdown",
      "metadata": {
        "id": "view-in-github",
        "colab_type": "text"
      },
      "source": [
        "<a href=\"https://colab.research.google.com/github/melancholymans/Bonanza/blob/master/Predict_Future_Sales.ipynb\" target=\"_parent\"><img src=\"https://colab.research.google.com/assets/colab-badge.svg\" alt=\"Open In Colab\"/></a>"
      ]
    },
    {
      "cell_type": "markdown",
      "metadata": {
        "id": "hA687gy1dJHj",
        "colab_type": "text"
      },
      "source": [
        "# Predict Future Sales\n",
        "Final project for \"How to win a data science competition\" Coursera course\n",
        "https://www.kaggle.com/c/competitive-data-science-predict-future-sales  \n",
        "\n",
        "この課題は、「データサイエンスコンペティションの勝ち方」コースラコースの最終プロジェクトとして機能します。 このコンペティションでは、1C Companyというロシア最大のソフトウェア会社の1つによって親切に提供された、日々の売上データからなる困難な時系列データセットを使用します。 翌月のすべての商品と店舗の総売上を予測するようにお願いしています。 この競争を解決することによって、あなたはあなたのデータサイエンススキルを適用して向上させることができるでしょう。"
      ]
    },
    {
      "cell_type": "markdown",
      "metadata": {
        "id": "Oj9eDH3_d4Vv",
        "colab_type": "text"
      },
      "source": [
        "## Loading Libraries and Data\n",
        "Predict Future Sales Challengeへようこそ。このカーネルでは、例示的なデータの視覚化を行うことに焦点を当ててから、LSTMを使用して2015年11月の売上を予測します。"
      ]
    },
    {
      "cell_type": "code",
      "metadata": {
        "id": "DAmRKXjBeHca",
        "colab_type": "code",
        "outputId": "dc97fe81-3762-489a-ab7f-6d800b6cf13f",
        "colab": {
          "base_uri": "https://localhost:8080/",
          "height": 122
        }
      },
      "source": [
        "from google.colab import drive\n",
        "drive.mount('/content/drive')\n",
        "\n",
        "base_path = 'drive/My Drive/Colab Notebooks/kaggle/Predict_Future_Sales/'\n",
        "base_input_path = 'drive/My Drive/Colab Notebooks/kaggle/Predict_Future_Sales/input/'\n",
        "base_output_path = 'drive/My Drive/Colab Notebooks/kaggle/Predict_Future_Sales/output/'"
      ],
      "execution_count": 0,
      "outputs": [
        {
          "output_type": "stream",
          "text": [
            "Go to this URL in a browser: https://accounts.google.com/o/oauth2/auth?client_id=947318989803-6bn6qk8qdgf4n4g3pfee6491hc0brc4i.apps.googleusercontent.com&redirect_uri=urn%3Aietf%3Awg%3Aoauth%3A2.0%3Aoob&scope=email%20https%3A%2F%2Fwww.googleapis.com%2Fauth%2Fdocs.test%20https%3A%2F%2Fwww.googleapis.com%2Fauth%2Fdrive%20https%3A%2F%2Fwww.googleapis.com%2Fauth%2Fdrive.photos.readonly%20https%3A%2F%2Fwww.googleapis.com%2Fauth%2Fpeopleapi.readonly&response_type=code\n",
            "\n",
            "Enter your authorization code:\n",
            "··········\n",
            "Mounted at /content/drive\n"
          ],
          "name": "stdout"
        }
      ]
    },
    {
      "cell_type": "code",
      "metadata": {
        "id": "Y-5Iw3W2caxN",
        "colab_type": "code",
        "outputId": "5b1862e8-8edf-4da6-d166-ec8b242d382c",
        "colab": {
          "base_uri": "https://localhost:8080/",
          "height": 34
        }
      },
      "source": [
        "import numpy as np\n",
        "import pandas as pd\n",
        "import matplotlib.pyplot as plt\n",
        "import seaborn as sns\n",
        "\n",
        "from datetime import datetime, date\n",
        "# relativedeltaは時間の計算をするライブラリ\n",
        "from dateutil.relativedelta import relativedelta\n",
        "# 正規分布を使った正規化\n",
        "from sklearn.preprocessing import StandardScaler\n",
        "\n",
        "from math import ceil\n",
        "# シンプルな自作コールバックを急いで作るためのコールバックです．\n",
        "from keras.callbacks import LambdaCallback\n",
        "# kerasのモデルのひとつ\n",
        "from keras.models import Sequential\n",
        "# Dense:通常の全結合ニューラルネットワークレイヤー\n",
        "# keras.layers.Activation(activation) 出力に活性化関数を適用する\n",
        "from keras.layers import Dense, Activation\n",
        "# LSTMを用いた系列データ分類:\n",
        "from keras.layers import LSTM\n",
        "# オプティマイザ\n",
        "from keras.optimizers import RMSprop\n",
        "\n",
        "%matplotlib inline\n",
        "\n",
        "train = pd.read_csv(base_input_path+'sales_train_v2.csv')\n",
        "test = pd.read_csv(base_input_path+'test.csv')\n",
        "submission = pd.read_csv(base_input_path+'sample_submission.csv')\n",
        "items = pd.read_csv(base_input_path+'items.csv')\n",
        "item_cats = pd.read_csv(base_input_path+'item_categories.csv')\n",
        "shops = pd.read_csv(base_input_path+'shops.csv')"
      ],
      "execution_count": 0,
      "outputs": [
        {
          "output_type": "stream",
          "text": [
            "Using TensorFlow backend.\n"
          ],
          "name": "stderr"
        }
      ]
    },
    {
      "cell_type": "markdown",
      "metadata": {
        "id": "99FdifZeoMYz",
        "colab_type": "text"
      },
      "source": [
        "First we will check if all shop and items in the test set is also in the training set.  \n",
        "最初に、テストセット内のすべてのショップとアイテムがトレーニングセットにも含まれているかどうかを確認します。"
      ]
    },
    {
      "cell_type": "code",
      "metadata": {
        "id": "IEDs8HWXnRwb",
        "colab_type": "code",
        "outputId": "4aba646e-d1ab-4028-ab40-0c69d0213fa5",
        "colab": {
          "base_uri": "https://localhost:8080/",
          "height": 1000
        }
      },
      "source": [
        "test_shops = test.shop_id.unique()\n",
        "train = train[train.shop_id.isin(test_shops)]\n",
        "print(train)\n",
        "test_items = test.item_id.unique()\n",
        "train = train[train.item_id.isin(test_items)]\n",
        "print(train)"
      ],
      "execution_count": 0,
      "outputs": [
        {
          "output_type": "stream",
          "text": [
            "               date  date_block_num  shop_id  item_id  item_price  item_cnt_day\n",
            "0        02.01.2013               0       59    22154      999.00           1.0\n",
            "1        03.01.2013               0       25     2552      899.00           1.0\n",
            "2        05.01.2013               0       25     2552      899.00          -1.0\n",
            "3        06.01.2013               0       25     2554     1709.05           1.0\n",
            "4        15.01.2013               0       25     2555     1099.00           1.0\n",
            "5        10.01.2013               0       25     2564      349.00           1.0\n",
            "6        02.01.2013               0       25     2565      549.00           1.0\n",
            "7        04.01.2013               0       25     2572      239.00           1.0\n",
            "8        11.01.2013               0       25     2572      299.00           1.0\n",
            "9        03.01.2013               0       25     2573      299.00           3.0\n",
            "10       03.01.2013               0       25     2574      399.00           2.0\n",
            "11       05.01.2013               0       25     2574      399.00           1.0\n",
            "12       07.01.2013               0       25     2574      399.00           1.0\n",
            "13       08.01.2013               0       25     2574      399.00           2.0\n",
            "14       10.01.2013               0       25     2574      399.00           1.0\n",
            "15       11.01.2013               0       25     2574      399.00           2.0\n",
            "16       13.01.2013               0       25     2574      399.00           1.0\n",
            "17       16.01.2013               0       25     2574      399.00           1.0\n",
            "18       26.01.2013               0       25     2574      399.00           1.0\n",
            "19       27.01.2013               0       25     2574      399.00           1.0\n",
            "20       09.01.2013               0       25     2593      279.00           1.0\n",
            "21       16.01.2013               0       25     2604      299.00           1.0\n",
            "22       27.01.2013               0       25     2604      299.00           1.0\n",
            "23       27.01.2013               0       25     2607      279.00           1.0\n",
            "24       29.01.2013               0       25     2607      279.00           1.0\n",
            "25       27.01.2013               0       25     2609     1699.00           1.0\n",
            "26       06.01.2013               0       25     2548     1708.95           1.0\n",
            "27       26.01.2013               0       25     2611      299.00           1.0\n",
            "28       02.01.2013               0       25     2546      299.00           1.0\n",
            "29       06.01.2013               0       25     2515     1649.00           1.0\n",
            "...             ...             ...      ...      ...         ...           ...\n",
            "2935819  16.10.2015              33       25     7789     1799.00           1.0\n",
            "2935820  22.10.2015              33       25     7790      799.00           1.0\n",
            "2935821  22.10.2015              33       25     7791      899.50           1.0\n",
            "2935822  17.10.2015              33       25     7632     2310.00           1.0\n",
            "2935823  26.10.2015              33       25     7487      299.00           1.0\n",
            "2935824  14.10.2015              33       25     7029      999.00           1.0\n",
            "2935825  23.10.2015              33       25     7460      299.00           1.0\n",
            "2935826  04.10.2015              33       25     7233      599.00           1.0\n",
            "2935827  18.10.2015              33       25     7308      349.00           1.0\n",
            "2935828  21.10.2015              33       25     7233      479.00           1.0\n",
            "2935829  03.10.2015              33       25     7233      599.00           1.0\n",
            "2935830  11.10.2015              33       25     7286      299.00           1.0\n",
            "2935831  22.10.2015              33       25     7187      299.00           1.0\n",
            "2935832  26.10.2015              33       25     7484      299.00           1.0\n",
            "2935833  22.10.2015              33       25     7308      349.00           1.0\n",
            "2935834  29.10.2015              33       25     7235      298.00           1.0\n",
            "2935835  18.10.2015              33       25     7327      349.00           1.0\n",
            "2935836  22.10.2015              33       25     7327      349.00           1.0\n",
            "2935837  24.10.2015              33       25     7328      249.00           1.0\n",
            "2935838  17.10.2015              33       25     7338      349.00           1.0\n",
            "2935839  24.10.2015              33       25     7315      399.00           1.0\n",
            "2935840  31.10.2015              33       25     7409      299.00           1.0\n",
            "2935841  11.10.2015              33       25     7393      349.00           1.0\n",
            "2935842  10.10.2015              33       25     7384      749.00           1.0\n",
            "2935843  09.10.2015              33       25     7409      299.00           1.0\n",
            "2935844  10.10.2015              33       25     7409      299.00           1.0\n",
            "2935845  09.10.2015              33       25     7460      299.00           1.0\n",
            "2935846  14.10.2015              33       25     7459      349.00           1.0\n",
            "2935847  22.10.2015              33       25     7440      299.00           1.0\n",
            "2935848  03.10.2015              33       25     7460      299.00           1.0\n",
            "\n",
            "[2413246 rows x 6 columns]\n",
            "               date  date_block_num  shop_id  item_id  item_price  item_cnt_day\n",
            "0        02.01.2013               0       59    22154       999.0           1.0\n",
            "10       03.01.2013               0       25     2574       399.0           2.0\n",
            "11       05.01.2013               0       25     2574       399.0           1.0\n",
            "12       07.01.2013               0       25     2574       399.0           1.0\n",
            "13       08.01.2013               0       25     2574       399.0           2.0\n",
            "14       10.01.2013               0       25     2574       399.0           1.0\n",
            "15       11.01.2013               0       25     2574       399.0           2.0\n",
            "16       13.01.2013               0       25     2574       399.0           1.0\n",
            "17       16.01.2013               0       25     2574       399.0           1.0\n",
            "18       26.01.2013               0       25     2574       399.0           1.0\n",
            "19       27.01.2013               0       25     2574       399.0           1.0\n",
            "23       27.01.2013               0       25     2607       279.0           1.0\n",
            "24       29.01.2013               0       25     2607       279.0           1.0\n",
            "56       19.01.2013               0       25     2614       299.0           1.0\n",
            "57       27.01.2013               0       25     2614       299.0           1.0\n",
            "91       02.01.2013               0       25     2808       999.0           2.0\n",
            "92       03.01.2013               0       25     2808       999.0           2.0\n",
            "93       04.01.2013               0       25     2808       999.0           1.0\n",
            "94       07.01.2013               0       25     2808       999.0           1.0\n",
            "95       08.01.2013               0       25     2808       999.0           2.0\n",
            "96       09.01.2013               0       25     2808       999.0           1.0\n",
            "97       11.01.2013               0       25     2808       999.0           4.0\n",
            "98       17.01.2013               0       25     2808       999.0           1.0\n",
            "99       19.01.2013               0       25     2808       999.0           2.0\n",
            "101      20.01.2013               0       25     2808       999.0           1.0\n",
            "102      22.01.2013               0       25     2808       999.0           1.0\n",
            "103      23.01.2013               0       25     2808       999.0           1.0\n",
            "104      24.01.2013               0       25     2808       999.0           1.0\n",
            "105      25.01.2013               0       25     2808       999.0           2.0\n",
            "106      26.01.2013               0       25     2808       999.0           1.0\n",
            "...             ...             ...      ...      ...         ...           ...\n",
            "2935816  19.10.2015              33       25     7780       248.0           1.0\n",
            "2935817  23.10.2015              33       25     7780       248.0           2.0\n",
            "2935818  31.10.2015              33       25     7780       198.0           1.0\n",
            "2935819  16.10.2015              33       25     7789      1799.0           1.0\n",
            "2935820  22.10.2015              33       25     7790       799.0           1.0\n",
            "2935821  22.10.2015              33       25     7791       899.5           1.0\n",
            "2935824  14.10.2015              33       25     7029       999.0           1.0\n",
            "2935825  23.10.2015              33       25     7460       299.0           1.0\n",
            "2935826  04.10.2015              33       25     7233       599.0           1.0\n",
            "2935827  18.10.2015              33       25     7308       349.0           1.0\n",
            "2935828  21.10.2015              33       25     7233       479.0           1.0\n",
            "2935829  03.10.2015              33       25     7233       599.0           1.0\n",
            "2935830  11.10.2015              33       25     7286       299.0           1.0\n",
            "2935831  22.10.2015              33       25     7187       299.0           1.0\n",
            "2935833  22.10.2015              33       25     7308       349.0           1.0\n",
            "2935834  29.10.2015              33       25     7235       298.0           1.0\n",
            "2935835  18.10.2015              33       25     7327       349.0           1.0\n",
            "2935836  22.10.2015              33       25     7327       349.0           1.0\n",
            "2935837  24.10.2015              33       25     7328       249.0           1.0\n",
            "2935838  17.10.2015              33       25     7338       349.0           1.0\n",
            "2935839  24.10.2015              33       25     7315       399.0           1.0\n",
            "2935840  31.10.2015              33       25     7409       299.0           1.0\n",
            "2935841  11.10.2015              33       25     7393       349.0           1.0\n",
            "2935842  10.10.2015              33       25     7384       749.0           1.0\n",
            "2935843  09.10.2015              33       25     7409       299.0           1.0\n",
            "2935844  10.10.2015              33       25     7409       299.0           1.0\n",
            "2935845  09.10.2015              33       25     7460       299.0           1.0\n",
            "2935846  14.10.2015              33       25     7459       349.0           1.0\n",
            "2935847  22.10.2015              33       25     7440       299.0           1.0\n",
            "2935848  03.10.2015              33       25     7460       299.0           1.0\n",
            "\n",
            "[1224439 rows x 6 columns]\n"
          ],
          "name": "stdout"
        }
      ]
    },
    {
      "cell_type": "code",
      "metadata": {
        "id": "hxHxMadGofwa",
        "colab_type": "code",
        "outputId": "08c0e8bd-eb49-48bb-979e-666c1a5d7295",
        "colab": {
          "base_uri": "https://localhost:8080/",
          "height": 119
        }
      },
      "source": [
        "MAX_BLOCK_NUM = train.date_block_num.max()\n",
        "MAX_ITEM = len(test_items)\n",
        "MAX_CAT = len(item_cats)\n",
        "MAX_YEAR = 3\n",
        "MAX_MONTH = 4 # 7 8 9 10\n",
        "MAX_SHOP = len(test_shops)\n",
        "print('MAX_BLOCK_NUM : ',MAX_BLOCK_NUM)\n",
        "print('MAX_ITEM : ',MAX_ITEM)\n",
        "print('MAX_CAT : ',MAX_CAT)\n",
        "print('MAX_YEAR : ',MAX_YEAR)\n",
        "print('MAX_MONTH : ',MAX_MONTH)\n",
        "print('MAX_SHOP : ',MAX_SHOP)"
      ],
      "execution_count": 0,
      "outputs": [
        {
          "output_type": "stream",
          "text": [
            "MAX_BLOCK_NUM :  33\n",
            "MAX_ITEM :  5100\n",
            "MAX_CAT :  84\n",
            "MAX_YEAR :  3\n",
            "MAX_MONTH :  4\n",
            "MAX_SHOP :  42\n"
          ],
          "name": "stdout"
        }
      ]
    },
    {
      "cell_type": "markdown",
      "metadata": {
        "id": "7_LbA-nDqPRK",
        "colab_type": "text"
      },
      "source": [
        "## Data Exploration\n",
        "Next, we would like to gain some insights about the data. I will attack from two angles, shop and item categories.  \n",
        "\n",
        "次に、データについていくつか洞察を得たいと思います。 ショップとアイテムの2つの角度から攻撃します。\n"
      ]
    },
    {
      "cell_type": "code",
      "metadata": {
        "id": "0k5prHOjnEKg",
        "colab_type": "code",
        "outputId": "71c9d61d-9709-4a06-ff7e-c32dc10f6cbe",
        "colab": {
          "base_uri": "https://localhost:8080/",
          "height": 204
        }
      },
      "source": [
        "train.tail()"
      ],
      "execution_count": 0,
      "outputs": [
        {
          "output_type": "execute_result",
          "data": {
            "text/html": [
              "<div>\n",
              "<style scoped>\n",
              "    .dataframe tbody tr th:only-of-type {\n",
              "        vertical-align: middle;\n",
              "    }\n",
              "\n",
              "    .dataframe tbody tr th {\n",
              "        vertical-align: top;\n",
              "    }\n",
              "\n",
              "    .dataframe thead th {\n",
              "        text-align: right;\n",
              "    }\n",
              "</style>\n",
              "<table border=\"1\" class=\"dataframe\">\n",
              "  <thead>\n",
              "    <tr style=\"text-align: right;\">\n",
              "      <th></th>\n",
              "      <th>date</th>\n",
              "      <th>date_block_num</th>\n",
              "      <th>shop_id</th>\n",
              "      <th>item_id</th>\n",
              "      <th>item_price</th>\n",
              "      <th>item_cnt_day</th>\n",
              "    </tr>\n",
              "  </thead>\n",
              "  <tbody>\n",
              "    <tr>\n",
              "      <th>2935844</th>\n",
              "      <td>10.10.2015</td>\n",
              "      <td>33</td>\n",
              "      <td>25</td>\n",
              "      <td>7409</td>\n",
              "      <td>299.0</td>\n",
              "      <td>1.0</td>\n",
              "    </tr>\n",
              "    <tr>\n",
              "      <th>2935845</th>\n",
              "      <td>09.10.2015</td>\n",
              "      <td>33</td>\n",
              "      <td>25</td>\n",
              "      <td>7460</td>\n",
              "      <td>299.0</td>\n",
              "      <td>1.0</td>\n",
              "    </tr>\n",
              "    <tr>\n",
              "      <th>2935846</th>\n",
              "      <td>14.10.2015</td>\n",
              "      <td>33</td>\n",
              "      <td>25</td>\n",
              "      <td>7459</td>\n",
              "      <td>349.0</td>\n",
              "      <td>1.0</td>\n",
              "    </tr>\n",
              "    <tr>\n",
              "      <th>2935847</th>\n",
              "      <td>22.10.2015</td>\n",
              "      <td>33</td>\n",
              "      <td>25</td>\n",
              "      <td>7440</td>\n",
              "      <td>299.0</td>\n",
              "      <td>1.0</td>\n",
              "    </tr>\n",
              "    <tr>\n",
              "      <th>2935848</th>\n",
              "      <td>03.10.2015</td>\n",
              "      <td>33</td>\n",
              "      <td>25</td>\n",
              "      <td>7460</td>\n",
              "      <td>299.0</td>\n",
              "      <td>1.0</td>\n",
              "    </tr>\n",
              "  </tbody>\n",
              "</table>\n",
              "</div>"
            ],
            "text/plain": [
              "               date  date_block_num  shop_id  item_id  item_price  item_cnt_day\n",
              "2935844  10.10.2015              33       25     7409       299.0           1.0\n",
              "2935845  09.10.2015              33       25     7460       299.0           1.0\n",
              "2935846  14.10.2015              33       25     7459       349.0           1.0\n",
              "2935847  22.10.2015              33       25     7440       299.0           1.0\n",
              "2935848  03.10.2015              33       25     7460       299.0           1.0"
            ]
          },
          "metadata": {
            "tags": []
          },
          "execution_count": 5
        }
      ]
    },
    {
      "cell_type": "code",
      "metadata": {
        "id": "OYmyfEgxqFWr",
        "colab_type": "code",
        "outputId": "394fb46e-0ba8-4f50-dc99-7bfe00bdb68a",
        "colab": {
          "base_uri": "https://localhost:8080/",
          "height": 1000
        }
      },
      "source": [
        "grouped = pd.DataFrame(train.groupby(['shop_id', 'date_block_num'])['item_cnt_day'].sum().reset_index())\n",
        "fig, axes = plt.subplots(nrows=5, ncols=2, sharex=True, sharey=True, figsize=(16,20))\n",
        "num_graph = 10\n",
        "id_per_graph = ceil(grouped.shop_id.max() / num_graph)\n",
        "print(grouped.shop_id.max())\n",
        "print(id_per_graph)\n",
        "count = 0\n",
        "for i in range(5):\n",
        "    for j in range(2):\n",
        "        sns.pointplot(x='date_block_num', y='item_cnt_day', \n",
        "                      hue='shop_id', data=grouped[np.logical_and(count*id_per_graph <= grouped['shop_id'], \n",
        "                                                                 grouped['shop_id'] < (count+1)*id_per_graph)], ax=axes[i][j])\n",
        "        count += 1"
      ],
      "execution_count": 0,
      "outputs": [
        {
          "output_type": "stream",
          "text": [
            "59\n",
            "6\n"
          ],
          "name": "stdout"
        },
        {
          "output_type": "display_data",
          "data": {
            "image/png": "[encoded data removed]",
            "text/plain": [
              "<Figure size 1152x1440 with 10 Axes>"
            ]
          },
          "metadata": {
            "tags": []
          }
        }
      ]
    },
    {
      "cell_type": "markdown",
      "metadata": {
        "id": "DE1DiUs1qBY5",
        "colab_type": "text"
      },
      "source": [
        "勾配ベースの学習方法では、トレーニングをスピードアップするために数値変数を正規化するのが一般的です。"
      ]
    },
    {
      "cell_type": "code",
      "metadata": {
        "id": "oyJrpRRuriOq",
        "colab_type": "code",
        "outputId": "5932e2b3-1c81-44a9-994c-e937bc758f86",
        "colab": {
          "base_uri": "https://localhost:8080/",
          "height": 153
        }
      },
      "source": [
        "scaler = StandardScaler()\n",
        "cnt_scaler = StandardScaler()\n",
        "# trainのitem_price.as_matrix()ので配列に変換している\n",
        "# reshape(-1,1)の-1は行数は推測してくださいという意味\n",
        "scaler.fit(train.item_price.as_matrix().reshape(-1, 1))\n",
        "cnt_scaler.fit(train.item_cnt_day.as_matrix().reshape(-1, 1))\n",
        "\n",
        "train.item_price = scaler.transform(train.item_price.as_matrix().reshape(-1, 1))\n",
        "train.item_cnt_day = cnt_scaler.transform(train.item_cnt_day.as_matrix().reshape(-1, 1))"
      ],
      "execution_count": 0,
      "outputs": [
        {
          "output_type": "stream",
          "text": [
            "/usr/local/lib/python3.6/dist-packages/ipykernel_launcher.py:5: FutureWarning: Method .as_matrix will be removed in a future version. Use .values instead.\n",
            "  \"\"\"\n",
            "/usr/local/lib/python3.6/dist-packages/ipykernel_launcher.py:6: FutureWarning: Method .as_matrix will be removed in a future version. Use .values instead.\n",
            "  \n",
            "/usr/local/lib/python3.6/dist-packages/ipykernel_launcher.py:8: FutureWarning: Method .as_matrix will be removed in a future version. Use .values instead.\n",
            "  \n",
            "/usr/local/lib/python3.6/dist-packages/ipykernel_launcher.py:9: FutureWarning: Method .as_matrix will be removed in a future version. Use .values instead.\n",
            "  if __name__ == '__main__':\n"
          ],
          "name": "stderr"
        }
      ]
    },
    {
      "cell_type": "markdown",
      "metadata": {
        "id": "GYxnstveuP3n",
        "colab_type": "text"
      },
      "source": [
        "ネットワークにフィードするためにトレーニングセット全体をエンコードしようとするのは自然です。 ただし、このアプローチには2つの欠点があります。2013年1月以降の販売データが2015年11月の販売に影響を与えることはほとんどありません。メモリ要件がKaggleの制限を超えています。 代わりに、2013年と2014年の7月、8月、9月、10月、11月の順序を学習します。"
      ]
    },
    {
      "cell_type": "markdown",
      "metadata": {
        "id": "Y36xRQDUueAJ",
        "colab_type": "text"
      },
      "source": [
        "## 欠損データ\n",
        "上記の期間内にすべての商品が売られるわけではありません。item_cnt_dayを0にして、それらの商品のレコードを追加します。価格は少しトリッキーです。 以下のコードで見られるように、アイテムの価格は店と時間の点に依存します。 空の値を最も近い過去のレコードで埋めます。"
      ]
    },
    {
      "cell_type": "code",
      "metadata": {
        "id": "6ACpG2SvqHmg",
        "colab_type": "code",
        "outputId": "05f93492-99ac-43d9-cfbf-03495125915d",
        "colab": {
          "base_uri": "https://localhost:8080/",
          "height": 1000
        }
      },
      "source": [
        "train.reset_index().groupby(['item_id', 'date_block_num', 'shop_id']).mean()"
      ],
      "execution_count": 0,
      "outputs": [
        {
          "output_type": "execute_result",
          "data": {
            "text/html": [
              "<div>\n",
              "<style scoped>\n",
              "    .dataframe tbody tr th:only-of-type {\n",
              "        vertical-align: middle;\n",
              "    }\n",
              "\n",
              "    .dataframe tbody tr th {\n",
              "        vertical-align: top;\n",
              "    }\n",
              "\n",
              "    .dataframe thead th {\n",
              "        text-align: right;\n",
              "    }\n",
              "</style>\n",
              "<table border=\"1\" class=\"dataframe\">\n",
              "  <thead>\n",
              "    <tr style=\"text-align: right;\">\n",
              "      <th></th>\n",
              "      <th></th>\n",
              "      <th></th>\n",
              "      <th>index</th>\n",
              "      <th>item_price</th>\n",
              "      <th>item_cnt_day</th>\n",
              "    </tr>\n",
              "    <tr>\n",
              "      <th>item_id</th>\n",
              "      <th>date_block_num</th>\n",
              "      <th>shop_id</th>\n",
              "      <th></th>\n",
              "      <th></th>\n",
              "      <th></th>\n",
              "    </tr>\n",
              "  </thead>\n",
              "  <tbody>\n",
              "    <tr>\n",
              "      <th rowspan=\"30\" valign=\"top\">30</th>\n",
              "      <th rowspan=\"30\" valign=\"top\">1</th>\n",
              "      <th>3</th>\n",
              "      <td>1.667900e+05</td>\n",
              "      <td>-0.345667</td>\n",
              "      <td>-0.096962</td>\n",
              "    </tr>\n",
              "    <tr>\n",
              "      <th>4</th>\n",
              "      <td>1.634227e+05</td>\n",
              "      <td>-0.345667</td>\n",
              "      <td>-0.046655</td>\n",
              "    </tr>\n",
              "    <tr>\n",
              "      <th>5</th>\n",
              "      <td>1.643168e+05</td>\n",
              "      <td>-0.345667</td>\n",
              "      <td>-0.021502</td>\n",
              "    </tr>\n",
              "    <tr>\n",
              "      <th>6</th>\n",
              "      <td>1.711684e+05</td>\n",
              "      <td>-0.349813</td>\n",
              "      <td>0.369521</td>\n",
              "    </tr>\n",
              "    <tr>\n",
              "      <th>7</th>\n",
              "      <td>1.684824e+05</td>\n",
              "      <td>-0.348403</td>\n",
              "      <td>-0.021502</td>\n",
              "    </tr>\n",
              "    <tr>\n",
              "      <th>10</th>\n",
              "      <td>1.770573e+05</td>\n",
              "      <td>-0.418996</td>\n",
              "      <td>0.003652</td>\n",
              "    </tr>\n",
              "    <tr>\n",
              "      <th>12</th>\n",
              "      <td>1.760830e+05</td>\n",
              "      <td>-0.345667</td>\n",
              "      <td>-0.096962</td>\n",
              "    </tr>\n",
              "    <tr>\n",
              "      <th>14</th>\n",
              "      <td>1.496236e+05</td>\n",
              "      <td>-0.348403</td>\n",
              "      <td>-0.096962</td>\n",
              "    </tr>\n",
              "    <tr>\n",
              "      <th>15</th>\n",
              "      <td>1.481274e+05</td>\n",
              "      <td>-0.347288</td>\n",
              "      <td>0.137804</td>\n",
              "    </tr>\n",
              "    <tr>\n",
              "      <th>16</th>\n",
              "      <td>1.511493e+05</td>\n",
              "      <td>-0.346449</td>\n",
              "      <td>0.291120</td>\n",
              "    </tr>\n",
              "    <tr>\n",
              "      <th>18</th>\n",
              "      <td>1.425055e+05</td>\n",
              "      <td>-0.345667</td>\n",
              "      <td>0.053959</td>\n",
              "    </tr>\n",
              "    <tr>\n",
              "      <th>19</th>\n",
              "      <td>1.458136e+05</td>\n",
              "      <td>-0.347035</td>\n",
              "      <td>0.167149</td>\n",
              "    </tr>\n",
              "    <tr>\n",
              "      <th>21</th>\n",
              "      <td>1.622913e+05</td>\n",
              "      <td>-0.345667</td>\n",
              "      <td>0.161759</td>\n",
              "    </tr>\n",
              "    <tr>\n",
              "      <th>22</th>\n",
              "      <td>1.578977e+05</td>\n",
              "      <td>-0.345667</td>\n",
              "      <td>0.053959</td>\n",
              "    </tr>\n",
              "    <tr>\n",
              "      <th>24</th>\n",
              "      <td>1.536924e+05</td>\n",
              "      <td>-0.345667</td>\n",
              "      <td>0.012799</td>\n",
              "    </tr>\n",
              "    <tr>\n",
              "      <th>25</th>\n",
              "      <td>1.572224e+05</td>\n",
              "      <td>-0.345667</td>\n",
              "      <td>0.715689</td>\n",
              "    </tr>\n",
              "    <tr>\n",
              "      <th>26</th>\n",
              "      <td>2.123635e+05</td>\n",
              "      <td>-0.349050</td>\n",
              "      <td>0.204880</td>\n",
              "    </tr>\n",
              "    <tr>\n",
              "      <th>28</th>\n",
              "      <td>2.215911e+05</td>\n",
              "      <td>-0.346957</td>\n",
              "      <td>0.648764</td>\n",
              "    </tr>\n",
              "    <tr>\n",
              "      <th>31</th>\n",
              "      <td>2.173416e+05</td>\n",
              "      <td>-0.345995</td>\n",
              "      <td>1.589800</td>\n",
              "    </tr>\n",
              "    <tr>\n",
              "      <th>35</th>\n",
              "      <td>1.870506e+05</td>\n",
              "      <td>-0.351595</td>\n",
              "      <td>0.204880</td>\n",
              "    </tr>\n",
              "    <tr>\n",
              "      <th>37</th>\n",
              "      <td>1.992368e+05</td>\n",
              "      <td>-0.345667</td>\n",
              "      <td>0.104266</td>\n",
              "    </tr>\n",
              "    <tr>\n",
              "      <th>38</th>\n",
              "      <td>2.036346e+05</td>\n",
              "      <td>-0.345667</td>\n",
              "      <td>-0.053842</td>\n",
              "    </tr>\n",
              "    <tr>\n",
              "      <th>41</th>\n",
              "      <td>2.019680e+05</td>\n",
              "      <td>-0.345667</td>\n",
              "      <td>-0.096962</td>\n",
              "    </tr>\n",
              "    <tr>\n",
              "      <th>42</th>\n",
              "      <td>1.250808e+05</td>\n",
              "      <td>-0.347032</td>\n",
              "      <td>0.526844</td>\n",
              "    </tr>\n",
              "    <tr>\n",
              "      <th>44</th>\n",
              "      <td>1.939026e+05</td>\n",
              "      <td>-0.345667</td>\n",
              "      <td>0.144511</td>\n",
              "    </tr>\n",
              "    <tr>\n",
              "      <th>45</th>\n",
              "      <td>1.976452e+05</td>\n",
              "      <td>-0.345667</td>\n",
              "      <td>-0.036594</td>\n",
              "    </tr>\n",
              "    <tr>\n",
              "      <th>46</th>\n",
              "      <td>1.963076e+05</td>\n",
              "      <td>-0.345667</td>\n",
              "      <td>0.129419</td>\n",
              "    </tr>\n",
              "    <tr>\n",
              "      <th>47</th>\n",
              "      <td>1.267141e+05</td>\n",
              "      <td>-0.350369</td>\n",
              "      <td>0.032399</td>\n",
              "    </tr>\n",
              "    <tr>\n",
              "      <th>50</th>\n",
              "      <td>1.184219e+05</td>\n",
              "      <td>-0.346188</td>\n",
              "      <td>0.226440</td>\n",
              "    </tr>\n",
              "    <tr>\n",
              "      <th>52</th>\n",
              "      <td>1.205110e+05</td>\n",
              "      <td>-0.345667</td>\n",
              "      <td>0.104266</td>\n",
              "    </tr>\n",
              "    <tr>\n",
              "      <th>...</th>\n",
              "      <th>...</th>\n",
              "      <th>...</th>\n",
              "      <td>...</td>\n",
              "      <td>...</td>\n",
              "      <td>...</td>\n",
              "    </tr>\n",
              "    <tr>\n",
              "      <th rowspan=\"30\" valign=\"top\">22167</th>\n",
              "      <th>30</th>\n",
              "      <th>52</th>\n",
              "      <td>2.751122e+06</td>\n",
              "      <td>-0.400390</td>\n",
              "      <td>-0.096962</td>\n",
              "    </tr>\n",
              "    <tr>\n",
              "      <th rowspan=\"10\" valign=\"top\">31</th>\n",
              "      <th>2</th>\n",
              "      <td>2.812459e+06</td>\n",
              "      <td>-0.400390</td>\n",
              "      <td>-0.096962</td>\n",
              "    </tr>\n",
              "    <tr>\n",
              "      <th>12</th>\n",
              "      <td>2.805080e+06</td>\n",
              "      <td>-0.400390</td>\n",
              "      <td>-0.096962</td>\n",
              "    </tr>\n",
              "    <tr>\n",
              "      <th>22</th>\n",
              "      <td>2.826949e+06</td>\n",
              "      <td>-0.400390</td>\n",
              "      <td>0.091689</td>\n",
              "    </tr>\n",
              "    <tr>\n",
              "      <th>25</th>\n",
              "      <td>2.829950e+06</td>\n",
              "      <td>-0.400390</td>\n",
              "      <td>-0.096962</td>\n",
              "    </tr>\n",
              "    <tr>\n",
              "      <th>26</th>\n",
              "      <td>2.820001e+06</td>\n",
              "      <td>-0.400390</td>\n",
              "      <td>-0.096962</td>\n",
              "    </tr>\n",
              "    <tr>\n",
              "      <th>31</th>\n",
              "      <td>2.785048e+06</td>\n",
              "      <td>-0.400390</td>\n",
              "      <td>-0.096962</td>\n",
              "    </tr>\n",
              "    <tr>\n",
              "      <th>35</th>\n",
              "      <td>2.783441e+06</td>\n",
              "      <td>-0.400390</td>\n",
              "      <td>-0.096962</td>\n",
              "    </tr>\n",
              "    <tr>\n",
              "      <th>39</th>\n",
              "      <td>2.786827e+06</td>\n",
              "      <td>-0.400390</td>\n",
              "      <td>-0.096962</td>\n",
              "    </tr>\n",
              "    <tr>\n",
              "      <th>42</th>\n",
              "      <td>2.778438e+06</td>\n",
              "      <td>-0.400390</td>\n",
              "      <td>-0.096962</td>\n",
              "    </tr>\n",
              "    <tr>\n",
              "      <th>52</th>\n",
              "      <td>2.802606e+06</td>\n",
              "      <td>-0.400390</td>\n",
              "      <td>-0.096962</td>\n",
              "    </tr>\n",
              "    <tr>\n",
              "      <th rowspan=\"6\" valign=\"top\">32</th>\n",
              "      <th>12</th>\n",
              "      <td>2.864951e+06</td>\n",
              "      <td>-0.400390</td>\n",
              "      <td>-0.096962</td>\n",
              "    </tr>\n",
              "    <tr>\n",
              "      <th>21</th>\n",
              "      <td>2.857952e+06</td>\n",
              "      <td>-0.400390</td>\n",
              "      <td>-0.096962</td>\n",
              "    </tr>\n",
              "    <tr>\n",
              "      <th>22</th>\n",
              "      <td>2.857100e+06</td>\n",
              "      <td>-0.400390</td>\n",
              "      <td>-0.096962</td>\n",
              "    </tr>\n",
              "    <tr>\n",
              "      <th>24</th>\n",
              "      <td>2.878414e+06</td>\n",
              "      <td>-0.400390</td>\n",
              "      <td>-0.096962</td>\n",
              "    </tr>\n",
              "    <tr>\n",
              "      <th>25</th>\n",
              "      <td>2.881564e+06</td>\n",
              "      <td>-0.400390</td>\n",
              "      <td>-0.096962</td>\n",
              "    </tr>\n",
              "    <tr>\n",
              "      <th>42</th>\n",
              "      <td>2.836286e+06</td>\n",
              "      <td>-0.400390</td>\n",
              "      <td>0.003652</td>\n",
              "    </tr>\n",
              "    <tr>\n",
              "      <th rowspan=\"13\" valign=\"top\">33</th>\n",
              "      <th>6</th>\n",
              "      <td>2.920248e+06</td>\n",
              "      <td>-0.400390</td>\n",
              "      <td>-0.096962</td>\n",
              "    </tr>\n",
              "    <tr>\n",
              "      <th>10</th>\n",
              "      <td>2.919236e+06</td>\n",
              "      <td>-0.479191</td>\n",
              "      <td>-0.096962</td>\n",
              "    </tr>\n",
              "    <tr>\n",
              "      <th>12</th>\n",
              "      <td>2.909686e+06</td>\n",
              "      <td>-0.400390</td>\n",
              "      <td>-0.096962</td>\n",
              "    </tr>\n",
              "    <tr>\n",
              "      <th>18</th>\n",
              "      <td>2.914184e+06</td>\n",
              "      <td>-0.400390</td>\n",
              "      <td>-0.096962</td>\n",
              "    </tr>\n",
              "    <tr>\n",
              "      <th>21</th>\n",
              "      <td>2.928969e+06</td>\n",
              "      <td>-0.400390</td>\n",
              "      <td>-0.096962</td>\n",
              "    </tr>\n",
              "    <tr>\n",
              "      <th>22</th>\n",
              "      <td>2.930882e+06</td>\n",
              "      <td>-0.402621</td>\n",
              "      <td>-0.014641</td>\n",
              "    </tr>\n",
              "    <tr>\n",
              "      <th>25</th>\n",
              "      <td>2.924952e+06</td>\n",
              "      <td>-0.400390</td>\n",
              "      <td>0.053959</td>\n",
              "    </tr>\n",
              "    <tr>\n",
              "      <th>26</th>\n",
              "      <td>2.922486e+06</td>\n",
              "      <td>-0.400390</td>\n",
              "      <td>-0.096962</td>\n",
              "    </tr>\n",
              "    <tr>\n",
              "      <th>28</th>\n",
              "      <td>2.928370e+06</td>\n",
              "      <td>-0.400390</td>\n",
              "      <td>-0.096962</td>\n",
              "    </tr>\n",
              "    <tr>\n",
              "      <th>37</th>\n",
              "      <td>2.892271e+06</td>\n",
              "      <td>-0.400390</td>\n",
              "      <td>-0.096962</td>\n",
              "    </tr>\n",
              "    <tr>\n",
              "      <th>42</th>\n",
              "      <td>2.903581e+06</td>\n",
              "      <td>-0.400390</td>\n",
              "      <td>0.003652</td>\n",
              "    </tr>\n",
              "    <tr>\n",
              "      <th>47</th>\n",
              "      <td>2.901707e+06</td>\n",
              "      <td>-0.400390</td>\n",
              "      <td>-0.096962</td>\n",
              "    </tr>\n",
              "    <tr>\n",
              "      <th>50</th>\n",
              "      <td>2.907457e+06</td>\n",
              "      <td>-0.400390</td>\n",
              "      <td>-0.096962</td>\n",
              "    </tr>\n",
              "  </tbody>\n",
              "</table>\n",
              "<p>600159 rows × 3 columns</p>\n",
              "</div>"
            ],
            "text/plain": [
              "                                       index  item_price  item_cnt_day\n",
              "item_id date_block_num shop_id                                        \n",
              "30      1              3        1.667900e+05   -0.345667     -0.096962\n",
              "                       4        1.634227e+05   -0.345667     -0.046655\n",
              "                       5        1.643168e+05   -0.345667     -0.021502\n",
              "                       6        1.711684e+05   -0.349813      0.369521\n",
              "                       7        1.684824e+05   -0.348403     -0.021502\n",
              "                       10       1.770573e+05   -0.418996      0.003652\n",
              "                       12       1.760830e+05   -0.345667     -0.096962\n",
              "                       14       1.496236e+05   -0.348403     -0.096962\n",
              "                       15       1.481274e+05   -0.347288      0.137804\n",
              "                       16       1.511493e+05   -0.346449      0.291120\n",
              "                       18       1.425055e+05   -0.345667      0.053959\n",
              "                       19       1.458136e+05   -0.347035      0.167149\n",
              "                       21       1.622913e+05   -0.345667      0.161759\n",
              "                       22       1.578977e+05   -0.345667      0.053959\n",
              "                       24       1.536924e+05   -0.345667      0.012799\n",
              "                       25       1.572224e+05   -0.345667      0.715689\n",
              "                       26       2.123635e+05   -0.349050      0.204880\n",
              "                       28       2.215911e+05   -0.346957      0.648764\n",
              "                       31       2.173416e+05   -0.345995      1.589800\n",
              "                       35       1.870506e+05   -0.351595      0.204880\n",
              "                       37       1.992368e+05   -0.345667      0.104266\n",
              "                       38       2.036346e+05   -0.345667     -0.053842\n",
              "                       41       2.019680e+05   -0.345667     -0.096962\n",
              "                       42       1.250808e+05   -0.347032      0.526844\n",
              "                       44       1.939026e+05   -0.345667      0.144511\n",
              "                       45       1.976452e+05   -0.345667     -0.036594\n",
              "                       46       1.963076e+05   -0.345667      0.129419\n",
              "                       47       1.267141e+05   -0.350369      0.032399\n",
              "                       50       1.184219e+05   -0.346188      0.226440\n",
              "                       52       1.205110e+05   -0.345667      0.104266\n",
              "...                                      ...         ...           ...\n",
              "22167   30             52       2.751122e+06   -0.400390     -0.096962\n",
              "        31             2        2.812459e+06   -0.400390     -0.096962\n",
              "                       12       2.805080e+06   -0.400390     -0.096962\n",
              "                       22       2.826949e+06   -0.400390      0.091689\n",
              "                       25       2.829950e+06   -0.400390     -0.096962\n",
              "                       26       2.820001e+06   -0.400390     -0.096962\n",
              "                       31       2.785048e+06   -0.400390     -0.096962\n",
              "                       35       2.783441e+06   -0.400390     -0.096962\n",
              "                       39       2.786827e+06   -0.400390     -0.096962\n",
              "                       42       2.778438e+06   -0.400390     -0.096962\n",
              "                       52       2.802606e+06   -0.400390     -0.096962\n",
              "        32             12       2.864951e+06   -0.400390     -0.096962\n",
              "                       21       2.857952e+06   -0.400390     -0.096962\n",
              "                       22       2.857100e+06   -0.400390     -0.096962\n",
              "                       24       2.878414e+06   -0.400390     -0.096962\n",
              "                       25       2.881564e+06   -0.400390     -0.096962\n",
              "                       42       2.836286e+06   -0.400390      0.003652\n",
              "        33             6        2.920248e+06   -0.400390     -0.096962\n",
              "                       10       2.919236e+06   -0.479191     -0.096962\n",
              "                       12       2.909686e+06   -0.400390     -0.096962\n",
              "                       18       2.914184e+06   -0.400390     -0.096962\n",
              "                       21       2.928969e+06   -0.400390     -0.096962\n",
              "                       22       2.930882e+06   -0.402621     -0.014641\n",
              "                       25       2.924952e+06   -0.400390      0.053959\n",
              "                       26       2.922486e+06   -0.400390     -0.096962\n",
              "                       28       2.928370e+06   -0.400390     -0.096962\n",
              "                       37       2.892271e+06   -0.400390     -0.096962\n",
              "                       42       2.903581e+06   -0.400390      0.003652\n",
              "                       47       2.901707e+06   -0.400390     -0.096962\n",
              "                       50       2.907457e+06   -0.400390     -0.096962\n",
              "\n",
              "[600159 rows x 3 columns]"
            ]
          },
          "metadata": {
            "tags": []
          },
          "execution_count": 8
        }
      ]
    },
    {
      "cell_type": "markdown",
      "metadata": {
        "id": "yH7kujJJxHiP",
        "colab_type": "text"
      },
      "source": [
        "簡単にグループ化するために、グループ化の順序を少し変更します。"
      ]
    },
    {
      "cell_type": "code",
      "metadata": {
        "id": "pAKisLcfqHis",
        "colab_type": "code",
        "outputId": "6ec7efd9-6bec-44d3-e964-e8101f9d8591",
        "colab": {
          "base_uri": "https://localhost:8080/",
          "height": 235
        }
      },
      "source": [
        "price = train.reset_index().set_index(['item_id', 'shop_id', 'date_block_num'])\n",
        "price = price.sort_index()\n",
        "price.head()"
      ],
      "execution_count": 0,
      "outputs": [
        {
          "output_type": "execute_result",
          "data": {
            "text/html": [
              "<div>\n",
              "<style scoped>\n",
              "    .dataframe tbody tr th:only-of-type {\n",
              "        vertical-align: middle;\n",
              "    }\n",
              "\n",
              "    .dataframe tbody tr th {\n",
              "        vertical-align: top;\n",
              "    }\n",
              "\n",
              "    .dataframe thead th {\n",
              "        text-align: right;\n",
              "    }\n",
              "</style>\n",
              "<table border=\"1\" class=\"dataframe\">\n",
              "  <thead>\n",
              "    <tr style=\"text-align: right;\">\n",
              "      <th></th>\n",
              "      <th></th>\n",
              "      <th></th>\n",
              "      <th>index</th>\n",
              "      <th>date</th>\n",
              "      <th>item_price</th>\n",
              "      <th>item_cnt_day</th>\n",
              "    </tr>\n",
              "    <tr>\n",
              "      <th>item_id</th>\n",
              "      <th>shop_id</th>\n",
              "      <th>date_block_num</th>\n",
              "      <th></th>\n",
              "      <th></th>\n",
              "      <th></th>\n",
              "      <th></th>\n",
              "    </tr>\n",
              "  </thead>\n",
              "  <tbody>\n",
              "    <tr>\n",
              "      <th rowspan=\"5\" valign=\"top\">30</th>\n",
              "      <th rowspan=\"4\" valign=\"top\">2</th>\n",
              "      <th>2</th>\n",
              "      <td>332029</td>\n",
              "      <td>01.03.2013</td>\n",
              "      <td>-0.367556</td>\n",
              "      <td>-0.096962</td>\n",
              "    </tr>\n",
              "    <tr>\n",
              "      <th>5</th>\n",
              "      <td>575446</td>\n",
              "      <td>16.06.2013</td>\n",
              "      <td>-0.345667</td>\n",
              "      <td>-0.096962</td>\n",
              "    </tr>\n",
              "    <tr>\n",
              "      <th>15</th>\n",
              "      <td>1585175</td>\n",
              "      <td>20.04.2014</td>\n",
              "      <td>-0.471530</td>\n",
              "      <td>-0.096962</td>\n",
              "    </tr>\n",
              "    <tr>\n",
              "      <th>16</th>\n",
              "      <td>1653550</td>\n",
              "      <td>08.05.2014</td>\n",
              "      <td>-0.471530</td>\n",
              "      <td>-0.096962</td>\n",
              "    </tr>\n",
              "    <tr>\n",
              "      <th>3</th>\n",
              "      <th>1</th>\n",
              "      <td>166771</td>\n",
              "      <td>23.02.2013</td>\n",
              "      <td>-0.345667</td>\n",
              "      <td>-0.096962</td>\n",
              "    </tr>\n",
              "  </tbody>\n",
              "</table>\n",
              "</div>"
            ],
            "text/plain": [
              "                                  index        date  item_price  item_cnt_day\n",
              "item_id shop_id date_block_num                                               \n",
              "30      2       2                332029  01.03.2013   -0.367556     -0.096962\n",
              "                5                575446  16.06.2013   -0.345667     -0.096962\n",
              "                15              1585175  20.04.2014   -0.471530     -0.096962\n",
              "                16              1653550  08.05.2014   -0.471530     -0.096962\n",
              "        3       1                166771  23.02.2013   -0.345667     -0.096962"
            ]
          },
          "metadata": {
            "tags": []
          },
          "execution_count": 9
        }
      ]
    },
    {
      "cell_type": "markdown",
      "metadata": {
        "id": "GLroYCaiXHUe",
        "colab_type": "text"
      },
      "source": [
        "ヘルパー関数"
      ]
    },
    {
      "cell_type": "code",
      "metadata": {
        "id": "NJvS1HS8qHba",
        "colab_type": "code",
        "colab": {}
      },
      "source": [
        "def convert(date_block):\n",
        "    date = datetime(2013, 1, 1)\n",
        "    date += relativedelta(months = date_block)\n",
        "    return (date.month, date.year)\n",
        "\n",
        "def closest_date_block(current_day, item_id, shop_id):\n",
        "    \"\"\"Find the block_date which is closest to the current_day, given item_id and shop_id. Returns index integer\"\"\"\n",
        "    if (item_id, shop_id) in price.index:\n",
        "        search_lst = np.array(price.loc[(item_id, shop_id)].index)        \n",
        "        return search_lst[np.abs(current_day - search_lst).argmin()]\n",
        "    return -1\n",
        "                \n",
        "def closest_price(current_day, item_id, shop_id):\n",
        "    closest_date = closest_date_block(current_day, item_id, shop_id)\n",
        "    if closest_date != -1:\n",
        "        return price.loc[( item_id, shop_id, closest_date )]['item_price']\n",
        "    return np.nan\n",
        "\n",
        "def closest_price_lambda(x):\n",
        "    return closest_price(34, x.item_id, x.shop_id)"
      ],
      "execution_count": 0,
      "outputs": []
    },
    {
      "cell_type": "code",
      "metadata": {
        "id": "jfC0QWhVqHXX",
        "colab_type": "code",
        "colab": {}
      },
      "source": [
        "assert closest_date_block(18, 30, 5) == 18"
      ],
      "execution_count": 0,
      "outputs": []
    },
    {
      "cell_type": "code",
      "metadata": {
        "id": "x2C-x4xuqIzA",
        "colab_type": "code",
        "outputId": "d226bffc-1793-485e-e4ac-4ab1dfa3c8be",
        "colab": {
          "base_uri": "https://localhost:8080/",
          "height": 68
        }
      },
      "source": [
        "# Some simple math to know what date_block_num to start learning\n",
        "print(convert(6))\n",
        "print(convert(18))\n",
        "print(convert(30))"
      ],
      "execution_count": 0,
      "outputs": [
        {
          "output_type": "stream",
          "text": [
            "(7, 2013)\n",
            "(7, 2014)\n",
            "(7, 2015)\n"
          ],
          "name": "stdout"
        }
      ]
    },
    {
      "cell_type": "markdown",
      "metadata": {
        "id": "bot3819ya3os",
        "colab_type": "text"
      },
      "source": [
        "どのブロックをトレーニングするべきかを見つけるために、簡単な数学を行います。"
      ]
    },
    {
      "cell_type": "code",
      "metadata": {
        "id": "RECElseJqIvf",
        "colab_type": "code",
        "outputId": "c3790976-1318-42f1-9104-1fb115b060c5",
        "colab": {
          "base_uri": "https://localhost:8080/",
          "height": 566
        }
      },
      "source": [
        "maxlen = 4 # 4 months\n",
        "step = 1\n",
        "# 0: train, 1: val, 2:test\n",
        "sentences = [[],[],[]]\n",
        "next_chars = [[], []]\n",
        "BLOCKS = [6, 18, 30]\n",
        "\n",
        "for s in test_shops:\n",
        "    shop_items = list(train.loc[s].index.get_level_values(0).unique())\n",
        "    for it in shop_items:        \n",
        "        for i_index, i in enumerate(BLOCKS):\n",
        "            sentence = []\n",
        "            closest_pc = closest_price(i, it, s)            \n",
        "            for j in range(maxlen+1):\n",
        "                if j < maxlen:\n",
        "                    if (s, it, i+j) in train.index:\n",
        "                        r = train.loc[(s, it, i + j)].to_dict(orient='list')                    \n",
        "                        closest_pc = r['item_price'][0]\n",
        "                        item_cnt_day = r['item_cnt_day'][0]\n",
        "                        row = {'shop_id': s, 'date_block_num': i+j, 'item_cnt_day': item_cnt_day, \n",
        "                               'month': month, 'item_id': it, 'item_price': closest_pc, 'year': year}\n",
        "                    else:\n",
        "                        month, year = convert(i+j)                    \n",
        "                        row = {'shop_id': s, 'date_block_num': i+j, 'item_cnt_day': 0, \n",
        "                               'month': month, 'item_id': it, 'item_price': closest_pc, 'year': year}\n",
        "                    sentence.append(row)\n",
        "                elif i_index < 2:   # not in test set\n",
        "                    next_chars[i_index].append(row)\n",
        "            sentences[i_index].append(sentence)"
      ],
      "execution_count": 0,
      "outputs": [
        {
          "output_type": "error",
          "ename": "KeyError",
          "evalue": "ignored",
          "traceback": [
            "\u001b[0;31m---------------------------------------------------------------------------\u001b[0m",
            "\u001b[0;31mKeyError\u001b[0m                                  Traceback (most recent call last)",
            "\u001b[0;32m/usr/local/lib/python3.6/dist-packages/pandas/core/indexes/base.py\u001b[0m in \u001b[0;36mget_loc\u001b[0;34m(self, key, method, tolerance)\u001b[0m\n\u001b[1;32m   2656\u001b[0m             \u001b[0;32mtry\u001b[0m\u001b[0;34m:\u001b[0m\u001b[0;34m\u001b[0m\u001b[0;34m\u001b[0m\u001b[0m\n\u001b[0;32m-> 2657\u001b[0;31m                 \u001b[0;32mreturn\u001b[0m \u001b[0mself\u001b[0m\u001b[0;34m.\u001b[0m\u001b[0m_engine\u001b[0m\u001b[0;34m.\u001b[0m\u001b[0mget_loc\u001b[0m\u001b[0;34m(\u001b[0m\u001b[0mkey\u001b[0m\u001b[0;34m)\u001b[0m\u001b[0;34m\u001b[0m\u001b[0;34m\u001b[0m\u001b[0m\n\u001b[0m\u001b[1;32m   2658\u001b[0m             \u001b[0;32mexcept\u001b[0m \u001b[0mKeyError\u001b[0m\u001b[0;34m:\u001b[0m\u001b[0;34m\u001b[0m\u001b[0;34m\u001b[0m\u001b[0m\n",
            "\u001b[0;32mpandas/_libs/index.pyx\u001b[0m in \u001b[0;36mpandas._libs.index.IndexEngine.get_loc\u001b[0;34m()\u001b[0m\n",
            "\u001b[0;32mpandas/_libs/index.pyx\u001b[0m in \u001b[0;36mpandas._libs.index.IndexEngine.get_loc\u001b[0;34m()\u001b[0m\n",
            "\u001b[0;31mKeyError\u001b[0m: 5",
            "\nDuring handling of the above exception, another exception occurred:\n",
            "\u001b[0;31mKeyError\u001b[0m                                  Traceback (most recent call last)",
            "\u001b[0;32m<ipython-input-13-d28b1747f9fc>\u001b[0m in \u001b[0;36m<module>\u001b[0;34m()\u001b[0m\n\u001b[1;32m      7\u001b[0m \u001b[0;34m\u001b[0m\u001b[0m\n\u001b[1;32m      8\u001b[0m \u001b[0;32mfor\u001b[0m \u001b[0ms\u001b[0m \u001b[0;32min\u001b[0m \u001b[0mtest_shops\u001b[0m\u001b[0;34m:\u001b[0m\u001b[0;34m\u001b[0m\u001b[0;34m\u001b[0m\u001b[0m\n\u001b[0;32m----> 9\u001b[0;31m     \u001b[0mshop_items\u001b[0m \u001b[0;34m=\u001b[0m \u001b[0mlist\u001b[0m\u001b[0;34m(\u001b[0m\u001b[0mtrain\u001b[0m\u001b[0;34m.\u001b[0m\u001b[0mloc\u001b[0m\u001b[0;34m[\u001b[0m\u001b[0ms\u001b[0m\u001b[0;34m]\u001b[0m\u001b[0;34m.\u001b[0m\u001b[0mindex\u001b[0m\u001b[0;34m.\u001b[0m\u001b[0mget_level_values\u001b[0m\u001b[0;34m(\u001b[0m\u001b[0;36m0\u001b[0m\u001b[0;34m)\u001b[0m\u001b[0;34m.\u001b[0m\u001b[0munique\u001b[0m\u001b[0;34m(\u001b[0m\u001b[0;34m)\u001b[0m\u001b[0;34m)\u001b[0m\u001b[0;34m\u001b[0m\u001b[0;34m\u001b[0m\u001b[0m\n\u001b[0m\u001b[1;32m     10\u001b[0m     \u001b[0;32mfor\u001b[0m \u001b[0mit\u001b[0m \u001b[0;32min\u001b[0m \u001b[0mshop_items\u001b[0m\u001b[0;34m:\u001b[0m\u001b[0;34m\u001b[0m\u001b[0;34m\u001b[0m\u001b[0m\n\u001b[1;32m     11\u001b[0m         \u001b[0;32mfor\u001b[0m \u001b[0mi_index\u001b[0m\u001b[0;34m,\u001b[0m \u001b[0mi\u001b[0m \u001b[0;32min\u001b[0m \u001b[0menumerate\u001b[0m\u001b[0;34m(\u001b[0m\u001b[0mBLOCKS\u001b[0m\u001b[0;34m)\u001b[0m\u001b[0;34m:\u001b[0m\u001b[0;34m\u001b[0m\u001b[0;34m\u001b[0m\u001b[0m\n",
            "\u001b[0;32m/usr/local/lib/python3.6/dist-packages/pandas/core/indexing.py\u001b[0m in \u001b[0;36m__getitem__\u001b[0;34m(self, key)\u001b[0m\n\u001b[1;32m   1498\u001b[0m \u001b[0;34m\u001b[0m\u001b[0m\n\u001b[1;32m   1499\u001b[0m             \u001b[0mmaybe_callable\u001b[0m \u001b[0;34m=\u001b[0m \u001b[0mcom\u001b[0m\u001b[0;34m.\u001b[0m\u001b[0mapply_if_callable\u001b[0m\u001b[0;34m(\u001b[0m\u001b[0mkey\u001b[0m\u001b[0;34m,\u001b[0m \u001b[0mself\u001b[0m\u001b[0;34m.\u001b[0m\u001b[0mobj\u001b[0m\u001b[0;34m)\u001b[0m\u001b[0;34m\u001b[0m\u001b[0;34m\u001b[0m\u001b[0m\n\u001b[0;32m-> 1500\u001b[0;31m             \u001b[0;32mreturn\u001b[0m \u001b[0mself\u001b[0m\u001b[0;34m.\u001b[0m\u001b[0m_getitem_axis\u001b[0m\u001b[0;34m(\u001b[0m\u001b[0mmaybe_callable\u001b[0m\u001b[0;34m,\u001b[0m \u001b[0maxis\u001b[0m\u001b[0;34m=\u001b[0m\u001b[0maxis\u001b[0m\u001b[0;34m)\u001b[0m\u001b[0;34m\u001b[0m\u001b[0;34m\u001b[0m\u001b[0m\n\u001b[0m\u001b[1;32m   1501\u001b[0m \u001b[0;34m\u001b[0m\u001b[0m\n\u001b[1;32m   1502\u001b[0m     \u001b[0;32mdef\u001b[0m \u001b[0m_is_scalar_access\u001b[0m\u001b[0;34m(\u001b[0m\u001b[0mself\u001b[0m\u001b[0;34m,\u001b[0m \u001b[0mkey\u001b[0m\u001b[0;34m)\u001b[0m\u001b[0;34m:\u001b[0m\u001b[0;34m\u001b[0m\u001b[0;34m\u001b[0m\u001b[0m\n",
            "\u001b[0;32m/usr/local/lib/python3.6/dist-packages/pandas/core/indexing.py\u001b[0m in \u001b[0;36m_getitem_axis\u001b[0;34m(self, key, axis)\u001b[0m\n\u001b[1;32m   1911\u001b[0m         \u001b[0;31m# fall thru to straight lookup\u001b[0m\u001b[0;34m\u001b[0m\u001b[0;34m\u001b[0m\u001b[0;34m\u001b[0m\u001b[0m\n\u001b[1;32m   1912\u001b[0m         \u001b[0mself\u001b[0m\u001b[0;34m.\u001b[0m\u001b[0m_validate_key\u001b[0m\u001b[0;34m(\u001b[0m\u001b[0mkey\u001b[0m\u001b[0;34m,\u001b[0m \u001b[0maxis\u001b[0m\u001b[0;34m)\u001b[0m\u001b[0;34m\u001b[0m\u001b[0;34m\u001b[0m\u001b[0m\n\u001b[0;32m-> 1913\u001b[0;31m         \u001b[0;32mreturn\u001b[0m \u001b[0mself\u001b[0m\u001b[0;34m.\u001b[0m\u001b[0m_get_label\u001b[0m\u001b[0;34m(\u001b[0m\u001b[0mkey\u001b[0m\u001b[0;34m,\u001b[0m \u001b[0maxis\u001b[0m\u001b[0;34m=\u001b[0m\u001b[0maxis\u001b[0m\u001b[0;34m)\u001b[0m\u001b[0;34m\u001b[0m\u001b[0;34m\u001b[0m\u001b[0m\n\u001b[0m\u001b[1;32m   1914\u001b[0m \u001b[0;34m\u001b[0m\u001b[0m\n\u001b[1;32m   1915\u001b[0m \u001b[0;34m\u001b[0m\u001b[0m\n",
            "\u001b[0;32m/usr/local/lib/python3.6/dist-packages/pandas/core/indexing.py\u001b[0m in \u001b[0;36m_get_label\u001b[0;34m(self, label, axis)\u001b[0m\n\u001b[1;32m    139\u001b[0m             \u001b[0;32mraise\u001b[0m \u001b[0mIndexingError\u001b[0m\u001b[0;34m(\u001b[0m\u001b[0;34m'no slices here, handle elsewhere'\u001b[0m\u001b[0;34m)\u001b[0m\u001b[0;34m\u001b[0m\u001b[0;34m\u001b[0m\u001b[0m\n\u001b[1;32m    140\u001b[0m \u001b[0;34m\u001b[0m\u001b[0m\n\u001b[0;32m--> 141\u001b[0;31m         \u001b[0;32mreturn\u001b[0m \u001b[0mself\u001b[0m\u001b[0;34m.\u001b[0m\u001b[0mobj\u001b[0m\u001b[0;34m.\u001b[0m\u001b[0m_xs\u001b[0m\u001b[0;34m(\u001b[0m\u001b[0mlabel\u001b[0m\u001b[0;34m,\u001b[0m \u001b[0maxis\u001b[0m\u001b[0;34m=\u001b[0m\u001b[0maxis\u001b[0m\u001b[0;34m)\u001b[0m\u001b[0;34m\u001b[0m\u001b[0;34m\u001b[0m\u001b[0m\n\u001b[0m\u001b[1;32m    142\u001b[0m \u001b[0;34m\u001b[0m\u001b[0m\n\u001b[1;32m    143\u001b[0m     \u001b[0;32mdef\u001b[0m \u001b[0m_get_loc\u001b[0m\u001b[0;34m(\u001b[0m\u001b[0mself\u001b[0m\u001b[0;34m,\u001b[0m \u001b[0mkey\u001b[0m\u001b[0;34m,\u001b[0m \u001b[0maxis\u001b[0m\u001b[0;34m=\u001b[0m\u001b[0;32mNone\u001b[0m\u001b[0;34m)\u001b[0m\u001b[0;34m:\u001b[0m\u001b[0;34m\u001b[0m\u001b[0;34m\u001b[0m\u001b[0m\n",
            "\u001b[0;32m/usr/local/lib/python3.6/dist-packages/pandas/core/generic.py\u001b[0m in \u001b[0;36mxs\u001b[0;34m(self, key, axis, level, drop_level)\u001b[0m\n\u001b[1;32m   3583\u001b[0m                                                       drop_level=drop_level)\n\u001b[1;32m   3584\u001b[0m         \u001b[0;32melse\u001b[0m\u001b[0;34m:\u001b[0m\u001b[0;34m\u001b[0m\u001b[0;34m\u001b[0m\u001b[0m\n\u001b[0;32m-> 3585\u001b[0;31m             \u001b[0mloc\u001b[0m \u001b[0;34m=\u001b[0m \u001b[0mself\u001b[0m\u001b[0;34m.\u001b[0m\u001b[0mindex\u001b[0m\u001b[0;34m.\u001b[0m\u001b[0mget_loc\u001b[0m\u001b[0;34m(\u001b[0m\u001b[0mkey\u001b[0m\u001b[0;34m)\u001b[0m\u001b[0;34m\u001b[0m\u001b[0;34m\u001b[0m\u001b[0m\n\u001b[0m\u001b[1;32m   3586\u001b[0m \u001b[0;34m\u001b[0m\u001b[0m\n\u001b[1;32m   3587\u001b[0m             \u001b[0;32mif\u001b[0m \u001b[0misinstance\u001b[0m\u001b[0;34m(\u001b[0m\u001b[0mloc\u001b[0m\u001b[0;34m,\u001b[0m \u001b[0mnp\u001b[0m\u001b[0;34m.\u001b[0m\u001b[0mndarray\u001b[0m\u001b[0;34m)\u001b[0m\u001b[0;34m:\u001b[0m\u001b[0;34m\u001b[0m\u001b[0;34m\u001b[0m\u001b[0m\n",
            "\u001b[0;32m/usr/local/lib/python3.6/dist-packages/pandas/core/indexes/base.py\u001b[0m in \u001b[0;36mget_loc\u001b[0;34m(self, key, method, tolerance)\u001b[0m\n\u001b[1;32m   2657\u001b[0m                 \u001b[0;32mreturn\u001b[0m \u001b[0mself\u001b[0m\u001b[0;34m.\u001b[0m\u001b[0m_engine\u001b[0m\u001b[0;34m.\u001b[0m\u001b[0mget_loc\u001b[0m\u001b[0;34m(\u001b[0m\u001b[0mkey\u001b[0m\u001b[0;34m)\u001b[0m\u001b[0;34m\u001b[0m\u001b[0;34m\u001b[0m\u001b[0m\n\u001b[1;32m   2658\u001b[0m             \u001b[0;32mexcept\u001b[0m \u001b[0mKeyError\u001b[0m\u001b[0;34m:\u001b[0m\u001b[0;34m\u001b[0m\u001b[0;34m\u001b[0m\u001b[0m\n\u001b[0;32m-> 2659\u001b[0;31m                 \u001b[0;32mreturn\u001b[0m \u001b[0mself\u001b[0m\u001b[0;34m.\u001b[0m\u001b[0m_engine\u001b[0m\u001b[0;34m.\u001b[0m\u001b[0mget_loc\u001b[0m\u001b[0;34m(\u001b[0m\u001b[0mself\u001b[0m\u001b[0;34m.\u001b[0m\u001b[0m_maybe_cast_indexer\u001b[0m\u001b[0;34m(\u001b[0m\u001b[0mkey\u001b[0m\u001b[0;34m)\u001b[0m\u001b[0;34m)\u001b[0m\u001b[0;34m\u001b[0m\u001b[0;34m\u001b[0m\u001b[0m\n\u001b[0m\u001b[1;32m   2660\u001b[0m         \u001b[0mindexer\u001b[0m \u001b[0;34m=\u001b[0m \u001b[0mself\u001b[0m\u001b[0;34m.\u001b[0m\u001b[0mget_indexer\u001b[0m\u001b[0;34m(\u001b[0m\u001b[0;34m[\u001b[0m\u001b[0mkey\u001b[0m\u001b[0;34m]\u001b[0m\u001b[0;34m,\u001b[0m \u001b[0mmethod\u001b[0m\u001b[0;34m=\u001b[0m\u001b[0mmethod\u001b[0m\u001b[0;34m,\u001b[0m \u001b[0mtolerance\u001b[0m\u001b[0;34m=\u001b[0m\u001b[0mtolerance\u001b[0m\u001b[0;34m)\u001b[0m\u001b[0;34m\u001b[0m\u001b[0;34m\u001b[0m\u001b[0m\n\u001b[1;32m   2661\u001b[0m         \u001b[0;32mif\u001b[0m \u001b[0mindexer\u001b[0m\u001b[0;34m.\u001b[0m\u001b[0mndim\u001b[0m \u001b[0;34m>\u001b[0m \u001b[0;36m1\u001b[0m \u001b[0;32mor\u001b[0m \u001b[0mindexer\u001b[0m\u001b[0;34m.\u001b[0m\u001b[0msize\u001b[0m \u001b[0;34m>\u001b[0m \u001b[0;36m1\u001b[0m\u001b[0;34m:\u001b[0m\u001b[0;34m\u001b[0m\u001b[0;34m\u001b[0m\u001b[0m\n",
            "\u001b[0;32mpandas/_libs/index.pyx\u001b[0m in \u001b[0;36mpandas._libs.index.IndexEngine.get_loc\u001b[0;34m()\u001b[0m\n",
            "\u001b[0;32mpandas/_libs/index.pyx\u001b[0m in \u001b[0;36mpandas._libs.index.IndexEngine.get_loc\u001b[0;34m()\u001b[0m\n",
            "\u001b[0;31mKeyError\u001b[0m: 5"
          ]
        }
      ]
    },
    {
      "cell_type": "markdown",
      "metadata": {
        "id": "Xtm5K3MFe8b-",
        "colab_type": "text"
      },
      "source": [
        "このコードが動かない"
      ]
    },
    {
      "cell_type": "code",
      "metadata": {
        "id": "3lp2jsWemSr8",
        "colab_type": "code",
        "outputId": "fab1caa4-b4fb-41dc-9794-161be3e300e4",
        "colab": {
          "base_uri": "https://localhost:8080/",
          "height": 122
        }
      },
      "source": [
        "from google.colab import drive\n",
        "drive.mount('/content/drive')"
      ],
      "execution_count": 1,
      "outputs": [
        {
          "output_type": "stream",
          "text": [
            "Go to this URL in a browser: https://accounts.google.com/o/oauth2/auth?client_id=947318989803-6bn6qk8qdgf4n4g3pfee6491hc0brc4i.apps.googleusercontent.com&redirect_uri=urn%3Aietf%3Awg%3Aoauth%3A2.0%3Aoob&scope=email%20https%3A%2F%2Fwww.googleapis.com%2Fauth%2Fdocs.test%20https%3A%2F%2Fwww.googleapis.com%2Fauth%2Fdrive%20https%3A%2F%2Fwww.googleapis.com%2Fauth%2Fdrive.photos.readonly%20https%3A%2F%2Fwww.googleapis.com%2Fauth%2Fpeopleapi.readonly&response_type=code\n",
            "\n",
            "Enter your authorization code:\n",
            "··········\n",
            "Mounted at /content/drive\n"
          ],
          "name": "stdout"
        }
      ]
    },
    {
      "cell_type": "code",
      "metadata": {
        "id": "Iz5B2MhZmdsB",
        "colab_type": "code",
        "colab": {}
      },
      "source": [
        "base_path = 'drive/My Drive/Colab Notebooks/kaggle/Predict_Future_Sales/'\n",
        "base_input_path = 'drive/My Drive/Colab Notebooks/kaggle/Predict_Future_Sales/input/'\n",
        "base_output_path = 'drive/My Drive/Colab Notebooks/kaggle/Predict_Future_Sales/output/'"
      ],
      "execution_count": 0,
      "outputs": []
    },
    {
      "cell_type": "markdown",
      "metadata": {
        "id": "rFT0KdD2x4RB",
        "colab_type": "text"
      },
      "source": [
        "次はここ\n",
        "https://www.kaggle.com/dimitreoliveira/model-stacking-feature-engineering-and-eda"
      ]
    },
    {
      "cell_type": "markdown",
      "metadata": {
        "id": "0VAO7e_QgNBD",
        "colab_type": "text"
      },
      "source": [
        "翌月のすべての商品と店舗の総売上を予測するようにお願いしています。 この競争を解決することによって、あなたはあなたのデータサイエンススキルを適用して向上させることができるでしょう。 あなたは毎日の過去の売上データを提供されます。 タスクは、テストセットの各店舗で販売されている製品の合計量を予測することです。 ショップや製品のリストは毎月わずかに変わることに注意してください。 このような状況に対処できる堅牢なモデルを作成することは、課題の一部です。\n",
        "\n",
        "## データフィールドの説明：\n",
        "ID  - テストセット内の（Shop、Item）  \n",
        "タプルを表すID shop_id  - ショップの一意の識別子  \n",
        "item_id  - 製品の一意の識別子item_category_id  - アイテムカテゴリの一意の識別子  date_block_num  - 連続する月の番号 便宜上。 2013年1月は0、2月2013は1、...、2015年10月は33 \n",
        "date  -  dateの形式はdd / mm / yyyyです  \n",
        "item_cnt_day  - 販売された商品の数。 このメジャーの月額を予測しています  \n",
        "item_price  - アイテムの現在の価格  \n",
        "item_name  - アイテムの名前  \n",
        "shop_name  - ショップの名前  \n",
        "item_category_name  - アイテムのカテゴリの名前"
      ]
    },
    {
      "cell_type": "markdown",
      "metadata": {
        "id": "DqOxkyNCiEPf",
        "colab_type": "text"
      },
      "source": [
        "## import warningsの説明\n",
        "\n",
        "警告メッセージは一般に、ユーザに警告しておいた方がよいような状況下にプログラムが置かれているが、その状況は (通常は) 例外を送出したりそのプログラムを終了させるほどの正当な理由がないといった状況で発されます。例えば、プログラムが古いモジュールを使っている場合には警告を発したくなるかもしれません。\n",
        "\n",
        "Python プログラマは、このモジュールの warn() 関数を使って警告を発することができます。(C 言語のプログラマは PyErr_WarnEx() を使います; 詳細は 例外処理 を参照してください)。\n",
        "\n",
        "## warnings.filterwarnings(\"ignore\")\n",
        "警告メッセージを出力するかどうかの決定は、警告フィルタによって制御されます。警告フィルタは一致規則 (matching rule)と動作からなるシーケンスです。 filterwarnings() を呼び出して一致規則をフィルタに追加することができ、 resetwarnings() を呼び出してフィルタを標準設定の状態にリセットすることができます。"
      ]
    },
    {
      "cell_type": "markdown",
      "metadata": {
        "id": "5Yn0N1WYivWy",
        "colab_type": "text"
      },
      "source": [
        "## import catboostの説明\n",
        "catboostとは？  \n",
        "決定木ベースの勾配ブースティングに基づく機械学習ライブラリ。  \n",
        "　最近、kaggleでも使われはじめられており、特徴としては以下のようだ。  \n",
        "　　1. 回帰、分類の教師あり学習に対応  \n",
        "　　2. kaggleで主流のxgboostとlightGBMと比較しても高い精度、学習速度を誇る  \n",
        "　　3. GPU、マルチGPUに対応  \n",
        "　　4. 幅広い言語対応（Python、R、C/C++）  \n",
        "　　\n",
        "　自身はkaggleの教師あり学習コンペはlightGBMを使っていたが、  \n",
        "　性能が良いということなので一度触ってみる。  "
      ]
    },
    {
      "cell_type": "markdown",
      "metadata": {
        "id": "eojsFObvj9Oq",
        "colab_type": "text"
      },
      "source": [
        "## XGboostとは\n",
        "XGboostは、アンサンブル学習がベースになっている手法です。\n",
        "アンサンブル学習は、大きく2通りの方法があります。一つはバギングと呼ばれ、復元抽出によってたくさんモデルを作成し、それらを平均化する手法です。各モデルが無相関であれば、平均化によりモデルの平均誤差が1 / （モデルの数）になります。ランダムフォレストは、このバギングがベースになっています。ただし、各決定木ができるだけ独立になるよう、使う変数群もランダム抽出するなどの工夫がなられています。前回は、過学習気味である結果はあまり解消できませんでしたが、高い精度を持つモデルが構築できたのでした。\n",
        "\n",
        "もう一つは、ブースティングと呼ばれ、モデルを逐次更新していく手法です。更新は、例えばAdaBoostと呼ばれる方法では、データにかける「重み」を前回作成したモデルをもとに変えることで行います。その際、作成したモデルの「正確さ」に対応するような重み係数も同時に算出し、最後に各モデルの予測値と重み係数をかけ合わせたものの和を、全体の予測値とします。\n",
        "\n",
        "損失関数の最小化問題は、数理最適化問題であり、目的に応じて最小値を求めるための様々な手法があります。よく知られた（使われる）方法の一つに、損失関数の勾配情報（微分）を使ったアルゴリズムがあります*2。ブースティングで勾配情報を用いたアルゴリズムを用いているものを勾配ブースティングと呼び、それをC++で高速実装したものがXGboostです。"
      ]
    },
    {
      "cell_type": "markdown",
      "metadata": {
        "id": "0KOwmr6Hkn5j",
        "colab_type": "text"
      },
      "source": [
        "## sklearn.metrics  mean_squared_error\n",
        "平均二乗誤差 (MSE)  \n",
        "https://pythondatascience.plavox.info/scikit-learn/%E5%9B%9E%E5%B8%B0%E3%83%A2%E3%83%87%E3%83%AB%E3%81%AE%E8%A9%95%E4%BE%A1\n",
        "\n",
        "平均二乗誤差 (MSE, Mean Squared Error) とは、実際の値と予測値の絶対値の 2 乗を平均したものです。この為、MAE に比べて大きな誤差が存在するケースで、大きな値を示す特徴があります。MAE と同じく、値が大きいほど誤差の多いモデルと言えます。計算式は以下となります。\n",
        "\n",
        "evaluation_mse(evaluation_y: 実際の値, evaluation_y_hat: 予測値, evaluation_n: 件数)  \n",
        "\n",
        "scikit-learn には、sklearn.metrics.mean_squared_error に計算用のメソッドが実装されており、以下のように利用できます。  "
      ]
    },
    {
      "cell_type": "code",
      "metadata": {
        "id": "RX5N6QO8jOB7",
        "colab_type": "code",
        "outputId": "783b949e-74da-4dd3-9f07-c559c9a47ca0",
        "colab": {
          "base_uri": "https://localhost:8080/",
          "height": 530
        }
      },
      "source": [
        "!pip install catboost"
      ],
      "execution_count": 3,
      "outputs": [
        {
          "output_type": "stream",
          "text": [
            "Collecting catboost\n",
            "\u001b[?25l  Downloading https://files.pythonhosted.org/packages/f4/ed/7d3b3ccfe8365ca69a5aa9f6855a11ea922d421801d6fbbcd071ac5a1b5e/catboost-0.15.2-cp36-none-manylinux1_x86_64.whl (61.2MB)\n",
            "\u001b[K     |████████████████████████████████| 61.2MB 1.2MB/s \n",
            "\u001b[?25hRequirement already satisfied: numpy>=1.16.0 in /usr/local/lib/python3.6/dist-packages (from catboost) (1.16.4)\n",
            "Requirement already satisfied: matplotlib in /usr/local/lib/python3.6/dist-packages (from catboost) (3.0.3)\n",
            "Requirement already satisfied: graphviz in /usr/local/lib/python3.6/dist-packages (from catboost) (0.10.1)\n",
            "Requirement already satisfied: pandas>=0.19.1 in /usr/local/lib/python3.6/dist-packages (from catboost) (0.24.2)\n",
            "Requirement already satisfied: six in /usr/local/lib/python3.6/dist-packages (from catboost) (1.12.0)\n",
            "Requirement already satisfied: plotly in /usr/local/lib/python3.6/dist-packages (from catboost) (3.6.1)\n",
            "Requirement already satisfied: cycler>=0.10 in /usr/local/lib/python3.6/dist-packages (from matplotlib->catboost) (0.10.0)\n",
            "Requirement already satisfied: kiwisolver>=1.0.1 in /usr/local/lib/python3.6/dist-packages (from matplotlib->catboost) (1.1.0)\n",
            "Requirement already satisfied: pyparsing!=2.0.4,!=2.1.2,!=2.1.6,>=2.0.1 in /usr/local/lib/python3.6/dist-packages (from matplotlib->catboost) (2.4.0)\n",
            "Requirement already satisfied: python-dateutil>=2.1 in /usr/local/lib/python3.6/dist-packages (from matplotlib->catboost) (2.5.3)\n",
            "Requirement already satisfied: pytz>=2011k in /usr/local/lib/python3.6/dist-packages (from pandas>=0.19.1->catboost) (2018.9)\n",
            "Requirement already satisfied: retrying>=1.3.3 in /usr/local/lib/python3.6/dist-packages (from plotly->catboost) (1.3.3)\n",
            "Requirement already satisfied: nbformat>=4.2 in /usr/local/lib/python3.6/dist-packages (from plotly->catboost) (4.4.0)\n",
            "Requirement already satisfied: requests in /usr/local/lib/python3.6/dist-packages (from plotly->catboost) (2.21.0)\n",
            "Requirement already satisfied: decorator>=4.0.6 in /usr/local/lib/python3.6/dist-packages (from plotly->catboost) (4.4.0)\n",
            "Requirement already satisfied: setuptools in /usr/local/lib/python3.6/dist-packages (from kiwisolver>=1.0.1->matplotlib->catboost) (41.0.1)\n",
            "Requirement already satisfied: jsonschema!=2.5.0,>=2.4 in /usr/local/lib/python3.6/dist-packages (from nbformat>=4.2->plotly->catboost) (2.6.0)\n",
            "Requirement already satisfied: jupyter-core in /usr/local/lib/python3.6/dist-packages (from nbformat>=4.2->plotly->catboost) (4.5.0)\n",
            "Requirement already satisfied: ipython-genutils in /usr/local/lib/python3.6/dist-packages (from nbformat>=4.2->plotly->catboost) (0.2.0)\n",
            "Requirement already satisfied: traitlets>=4.1 in /usr/local/lib/python3.6/dist-packages (from nbformat>=4.2->plotly->catboost) (4.3.2)\n",
            "Requirement already satisfied: chardet<3.1.0,>=3.0.2 in /usr/local/lib/python3.6/dist-packages (from requests->plotly->catboost) (3.0.4)\n",
            "Requirement already satisfied: idna<2.9,>=2.5 in /usr/local/lib/python3.6/dist-packages (from requests->plotly->catboost) (2.8)\n",
            "Requirement already satisfied: urllib3<1.25,>=1.21.1 in /usr/local/lib/python3.6/dist-packages (from requests->plotly->catboost) (1.24.3)\n",
            "Requirement already satisfied: certifi>=2017.4.17 in /usr/local/lib/python3.6/dist-packages (from requests->plotly->catboost) (2019.6.16)\n",
            "Installing collected packages: catboost\n",
            "Successfully installed catboost-0.15.2\n"
          ],
          "name": "stdout"
        }
      ]
    },
    {
      "cell_type": "code",
      "metadata": {
        "id": "ozaveFWiqHTQ",
        "colab_type": "code",
        "colab": {}
      },
      "source": [
        "import datetime\n",
        "import warnings\n",
        "import numpy as np\n",
        "import pandas as pd\n",
        "import seaborn as sns\n",
        "import matplotlib.pyplot as plt\n",
        "import catboost\n",
        "from catboost import Pool\n",
        "from catboost import CatBoostRegressor\n",
        "from xgboost import XGBRegressor\n",
        "from xgboost import plot_importance\n",
        "from sklearn.metrics import mean_squared_error\n",
        "from sklearn.linear_model import LinearRegression\n",
        "from sklearn.neighbors import KNeighborsRegressor\n",
        "from sklearn.ensemble import RandomForestRegressor\n",
        "from sklearn.preprocessing import StandardScaler, MinMaxScaler\n",
        "\n",
        "%matplotlib inline\n",
        "sns.set(style=\"darkgrid\")\n",
        "pd.set_option('display.float_format', lambda x: '%.2f' % x)\n",
        "warnings.filterwarnings(\"ignore\")"
      ],
      "execution_count": 0,
      "outputs": []
    },
    {
      "cell_type": "markdown",
      "metadata": {
        "id": "IErm052slkkJ",
        "colab_type": "text"
      },
      "source": [
        "## Loading Data  "
      ]
    },
    {
      "cell_type": "code",
      "metadata": {
        "id": "BJK7Ew0HjJFI",
        "colab_type": "code",
        "colab": {}
      },
      "source": [
        "test = pd.read_csv(base_input_path + 'test.csv', dtype={'ID': 'int32', 'shop_id': 'int32', 'item_id': 'int32'})\n",
        "item_categories = pd.read_csv(base_input_path + 'item_categories.csv', dtype={'item_category_name': 'str', 'item_category_id': 'int32'})\n",
        "items = pd.read_csv(base_input_path + 'items.csv', dtype={'item_name': 'str', 'item_id': 'int32', 'item_category_id': 'int32'})\n",
        "shops = pd.read_csv(base_input_path + 'shops.csv', dtype={'shop_name': 'str', 'shop_id': 'int32'})\n",
        "sales = pd.read_csv(base_input_path + 'sales_train_v2.csv', parse_dates=['date'], \n",
        "                    dtype={'date': 'str', 'date_block_num': 'int32', 'shop_id': 'int32', \n",
        "                          'item_id': 'int32', 'item_price': 'float32', 'item_cnt_day': 'int32'})"
      ],
      "execution_count": 0,
      "outputs": []
    },
    {
      "cell_type": "markdown",
      "metadata": {
        "id": "cYqxoTObxY05",
        "colab_type": "text"
      },
      "source": [
        "## Join data sets"
      ]
    },
    {
      "cell_type": "markdown",
      "metadata": {
        "id": "FcOXur2Iyq5e",
        "colab_type": "text"
      },
      "source": [
        "### joinはmerge()と同じくデータ結合するメソッド。\n",
        "join()はmerge()のようにpandas.join()関数は用意されておらず、pandas.DataFrameのメソッドだけなので注意。\n",
        "merge()と異なり左結合（how='left'）がデフォルト。  \n",
        "rsuffix ： str、デフォルトは ''\n",
        "右フレームの重なっている列から使用する接尾辞。  "
      ]
    },
    {
      "cell_type": "code",
      "metadata": {
        "id": "PJCiIghOoN5c",
        "colab_type": "code",
        "colab": {}
      },
      "source": [
        "train = sales.join(items, on='item_id', rsuffix='_').join(shops, on='shop_id', rsuffix='_').join(item_categories, on='item_category_id', rsuffix='_') \\\n",
        "      .drop(['item_id_', 'shop_id_', 'item_category_id_'], axis=1)"
      ],
      "execution_count": 0,
      "outputs": []
    },
    {
      "cell_type": "markdown",
      "metadata": {
        "id": "3Llu8iJ21AwM",
        "colab_type": "text"
      },
      "source": [
        "## Time period of the dataset"
      ]
    },
    {
      "cell_type": "markdown",
      "metadata": {
        "id": "Y1XZ9rOH4tfQ",
        "colab_type": "text"
      },
      "source": [
        "## Data leakages\n",
        "データ漏洩について私はテストセットに現れる \"shop_id\"と \"item_id\"のみを使用します。"
      ]
    },
    {
      "cell_type": "code",
      "metadata": {
        "id": "AJxD5lRH1F4r",
        "colab_type": "code",
        "colab": {}
      },
      "source": [
        "test_shop_ids = test['shop_id'].unique()\n",
        "test_item_ids = test['item_id'].unique()\n",
        "# Only shops that exist in test set.\n",
        "lk_train = train[train['shop_id'].isin(test_shop_ids)]\n",
        "# Only items that exist in test set.\n",
        "lk_train = lk_train[lk_train['item_id'].isin(test_item_ids)]"
      ],
      "execution_count": 0,
      "outputs": []
    },
    {
      "cell_type": "markdown",
      "metadata": {
        "id": "bBzf7WFs51Qg",
        "colab_type": "text"
      },
      "source": [
        "## Data cleaning"
      ]
    },
    {
      "cell_type": "code",
      "metadata": {
        "id": "mTU_7L7A47xA",
        "colab_type": "code",
        "colab": {}
      },
      "source": [
        "train = train.query('item_price > 0')"
      ],
      "execution_count": 0,
      "outputs": []
    },
    {
      "cell_type": "markdown",
      "metadata": {
        "id": "kEXB0Ah16DVo",
        "colab_type": "text"
      },
      "source": [
        "## データの前処理\n",
        "私はテキスト機能を落としています。何もしないからです。 翌月のすべての商品と店舗の総売上を予測するよう求められ、データは日ごとに表示されるので、不要な列を削除して月ごとのデータを集計しましょう。"
      ]
    },
    {
      "cell_type": "code",
      "metadata": {
        "id": "7OaIWeop47ny",
        "colab_type": "code",
        "colab": {}
      },
      "source": [
        "# Select only useful features.\n",
        "train_monthly = lk_train[['date', 'date_block_num', 'shop_id', 'item_category_id', 'item_id', 'item_price', 'item_cnt_day']]"
      ],
      "execution_count": 0,
      "outputs": []
    },
    {
      "cell_type": "code",
      "metadata": {
        "id": "3Mf7H1Mj47jA",
        "colab_type": "code",
        "colab": {}
      },
      "source": [
        "# Group by month in this case \"date_block_num\" and aggregate features.\n",
        "train_monthly = train_monthly.sort_values('date').groupby(['date_block_num', 'shop_id', 'item_category_id', 'item_id'], as_index=False)\n",
        "train_monthly = train_monthly.agg({'item_price':['sum', 'mean'], 'item_cnt_day':['sum', 'mean','count']})\n",
        "# Rename features.\n",
        "train_monthly.columns = ['date_block_num', 'shop_id', 'item_category_id', 'item_id', 'item_price', 'mean_item_price', 'item_cnt', 'mean_item_cnt', 'transactions']"
      ],
      "execution_count": 0,
      "outputs": []
    },
    {
      "cell_type": "markdown",
      "metadata": {
        "id": "pGPuTBmpBhKf",
        "colab_type": "text"
      },
      "source": [
        "データの実際の動作を模倣するには、ロードされたデータセットから不足レコードを作成する必要があります。月ごとに、店舗や商品ごとに不足レコードを作成する必要があります。 0でそれらを。"
      ]
    },
    {
      "cell_type": "code",
      "metadata": {
        "id": "U5s-Lscr47Wr",
        "colab_type": "code",
        "colab": {}
      },
      "source": [
        "# Build a data set with all the possible combinations of ['date_block_num','shop_id','item_id'] so we won't have missing records.\n",
        "shop_ids = train_monthly['shop_id'].unique()\n",
        "item_ids = train_monthly['item_id'].unique()\n",
        "empty_df = []\n",
        "for i in range(34):\n",
        "    for shop in shop_ids:\n",
        "        for item in item_ids:\n",
        "            empty_df.append([i, shop, item])\n",
        "    \n",
        "empty_df = pd.DataFrame(empty_df, columns=['date_block_num','shop_id','item_id'])"
      ],
      "execution_count": 0,
      "outputs": []
    },
    {
      "cell_type": "code",
      "metadata": {
        "id": "Cbz7i8sh47Oo",
        "colab_type": "code",
        "colab": {}
      },
      "source": [
        "# Merge the train set with the complete set (missing records will be filled with 0).\n",
        "train_monthly = pd.merge(empty_df, train_monthly, on=['date_block_num','shop_id','item_id'], how='left')\n",
        "train_monthly.fillna(0, inplace=True)"
      ],
      "execution_count": 0,
      "outputs": []
    },
    {
      "cell_type": "code",
      "metadata": {
        "id": "-o5rs0XudCNj",
        "colab_type": "code",
        "colab": {}
      },
      "source": [
        ""
      ],
      "execution_count": 0,
      "outputs": []
    },
    {
      "cell_type": "code",
      "metadata": {
        "id": "mwwqo-kw47CI",
        "colab_type": "code",
        "colab": {}
      },
      "source": [
        "# Extract time based features.\n",
        "train_monthly['year'] = train_monthly['date_block_num'].apply(lambda x: ((x//12) + 2013))\n",
        "train_monthly['month'] = train_monthly['date_block_num'].apply(lambda x: (x % 12))"
      ],
      "execution_count": 0,
      "outputs": []
    },
    {
      "cell_type": "markdown",
      "metadata": {
        "id": "lOFmEoTmN-gb",
        "colab_type": "text"
      },
      "source": [
        "groupby を使うと、デフォルトでグループラベルが index になる。index にしたく無い場合は as_index=False を指定する。"
      ]
    },
    {
      "cell_type": "code",
      "metadata": {
        "id": "yv3t_5vWMeAH",
        "colab_type": "code",
        "colab": {}
      },
      "source": [
        "# Grouping data for EDA.\n",
        "gp_month_mean = train_monthly.groupby(['month'], as_index=False)['item_cnt'].mean()\n",
        "gp_month_sum = train_monthly.groupby(['month'], as_index=False)['item_cnt'].sum()\n",
        "gp_category_mean = train_monthly.groupby(['item_category_id'], as_index=False)['item_cnt'].mean()\n",
        "gp_category_sum = train_monthly.groupby(['item_category_id'], as_index=False)['item_cnt'].sum()\n",
        "gp_shop_mean = train_monthly.groupby(['shop_id'], as_index=False)['item_cnt'].mean()\n",
        "gp_shop_sum = train_monthly.groupby(['shop_id'], as_index=False)['item_cnt'].sum()"
      ],
      "execution_count": 0,
      "outputs": []
    },
    {
      "cell_type": "markdown",
      "metadata": {
        "id": "nVR489fvTOQP",
        "colab_type": "text"
      },
      "source": [
        "ご覧のとおり、年末にかけて商品の販売数（平均）が増加傾向にあります。"
      ]
    },
    {
      "cell_type": "markdown",
      "metadata": {
        "id": "LzdeCj1zUTG_",
        "colab_type": "text"
      },
      "source": [
        "売り上げの大部分を占めるのは、ほんのわずかなカテゴリーだけです。"
      ]
    },
    {
      "cell_type": "markdown",
      "metadata": {
        "id": "sajZe8f0UcQV",
        "colab_type": "text"
      },
      "source": [
        "もっと売っている店は？"
      ]
    },
    {
      "cell_type": "markdown",
      "metadata": {
        "id": "BqU75HPyU2Cd",
        "colab_type": "text"
      },
      "source": [
        "ほとんどの店は同じような売り率を持っていますが、そのうち3つはもっと高い率を持っています、これは店の大きさを示しているかもしれません。"
      ]
    },
    {
      "cell_type": "markdown",
      "metadata": {
        "id": "1jXcOGiuVH_l",
        "colab_type": "text"
      },
      "source": [
        "外れ値をチェックする"
      ]
    },
    {
      "cell_type": "markdown",
      "metadata": {
        "id": "5B1N_dnGXcO9",
        "colab_type": "text"
      },
      "source": [
        "外れ値を削除する"
      ]
    },
    {
      "cell_type": "code",
      "metadata": {
        "id": "jLdY5a4eU4cg",
        "colab_type": "code",
        "colab": {}
      },
      "source": [
        "train_monthly = train_monthly.query('item_cnt >= 0 and item_cnt <= 20 and item_price < 400000')"
      ],
      "execution_count": 0,
      "outputs": []
    },
    {
      "cell_type": "markdown",
      "metadata": {
        "id": "iTgbRJUzYOx9",
        "colab_type": "text"
      },
      "source": [
        "## ラベルの作成\n",
        "私たちのラベルは翌月の \"item_cnt\"になるでしょう。予測問題を扱っているからです。"
      ]
    },
    {
      "cell_type": "code",
      "metadata": {
        "id": "0qBh2MdWW77H",
        "colab_type": "code",
        "colab": {}
      },
      "source": [
        "train_monthly['item_cnt_month'] = train_monthly.sort_values('date_block_num').groupby(['shop_id', 'item_id'])['item_cnt'].shift(-1)"
      ],
      "execution_count": 0,
      "outputs": []
    },
    {
      "cell_type": "markdown",
      "metadata": {
        "id": "ZtrJfug1a8aH",
        "colab_type": "text"
      },
      "source": [
        "機能エンジニアリング"
      ]
    },
    {
      "cell_type": "code",
      "metadata": {
        "id": "XTe3Gy-TU4Yg",
        "colab_type": "code",
        "colab": {}
      },
      "source": [
        "train_monthly['item_price_unit'] = train_monthly['item_price'] // train_monthly['item_cnt']\n",
        "train_monthly['item_price_unit'].fillna(0, inplace=True)"
      ],
      "execution_count": 0,
      "outputs": []
    },
    {
      "cell_type": "markdown",
      "metadata": {
        "id": "-Pmuk_IVaniv",
        "colab_type": "text"
      },
      "source": [
        "グループベースの機能"
      ]
    },
    {
      "cell_type": "markdown",
      "metadata": {
        "id": "vH43qe3WbSIV",
        "colab_type": "text"
      },
      "source": [
        ""
      ]
    },
    {
      "cell_type": "code",
      "metadata": {
        "id": "yEywUuwYU4Uh",
        "colab_type": "code",
        "colab": {}
      },
      "source": [
        "gp_item_price = train_monthly.sort_values('date_block_num').groupby(['item_id'], as_index=False).agg({'item_price':[np.min, np.max]})\n",
        "gp_item_price.columns = ['item_id', 'hist_min_item_price', 'hist_max_item_price']\n",
        "train_monthly = pd.merge(train_monthly, gp_item_price, on='item_id', how='left')"
      ],
      "execution_count": 0,
      "outputs": []
    },
    {
      "cell_type": "markdown",
      "metadata": {
        "id": "sB9emQRkcVge",
        "colab_type": "text"
      },
      "source": [
        "各アイテムの価格がその（最も低い/最も高い）過去の価格からどれだけ変わったか。"
      ]
    },
    {
      "cell_type": "code",
      "metadata": {
        "id": "zAkEqRd1OFg6",
        "colab_type": "code",
        "colab": {}
      },
      "source": [
        "train_monthly['price_increase'] = train_monthly['item_price'] - train_monthly['hist_min_item_price']\n",
        "train_monthly['price_decrease'] = train_monthly['hist_max_item_price'] - train_monthly['item_price']"
      ],
      "execution_count": 0,
      "outputs": []
    },
    {
      "cell_type": "markdown",
      "metadata": {
        "id": "IDWil4DAeMqq",
        "colab_type": "text"
      },
      "source": [
        "ローリングウィンドウベースの機能（ウィンドウ= 3ヶ月）。"
      ]
    },
    {
      "cell_type": "code",
      "metadata": {
        "id": "GsHLXQEfeGab",
        "colab_type": "code",
        "colab": {}
      },
      "source": [
        "# Min value\n",
        "# min_periodsはウインドに含まれている算出可能なデータ個数を指定できる\n",
        "# ここではwindow=3であるので3個ないとNanになるが最低1つあればOK\n",
        "f_min = lambda x: x.rolling(window=3, min_periods=1).min()\n",
        "# Max value\n",
        "f_max = lambda x: x.rolling(window=3, min_periods=1).max()\n",
        "# Mean value\n",
        "f_mean = lambda x: x.rolling(window=3, min_periods=1).mean()\n",
        "# Standard deviation\n",
        "f_std = lambda x: x.rolling(window=3, min_periods=1).std()\n",
        "\n",
        "function_list = [f_min, f_max, f_mean, f_std]\n",
        "function_name = ['min', 'max', 'mean', 'std']\n",
        "\n",
        "for i in range(len(function_list)):\n",
        "    train_monthly[('item_cnt_%s' % function_name[i])] = train_monthly.sort_values('date_block_num').groupby(['shop_id', 'item_category_id', 'item_id'])['item_cnt'].apply(function_list[i])\n",
        "\n",
        "# Fill the empty std features with 0\n",
        "train_monthly['item_cnt_std'].fillna(0, inplace=True)"
      ],
      "execution_count": 0,
      "outputs": []
    },
    {
      "cell_type": "markdown",
      "metadata": {
        "id": "RsGQsvTogYpr",
        "colab_type": "text"
      },
      "source": [
        "ラグベースの機能"
      ]
    },
    {
      "cell_type": "code",
      "metadata": {
        "id": "S98UaKaygKY-",
        "colab_type": "code",
        "colab": {}
      },
      "source": [
        "lag_list = [1, 2, 3]\n",
        "\n",
        "for lag in lag_list:\n",
        "    ft_name = ('item_cnt_shifted%s' % lag)\n",
        "    train_monthly[ft_name] = train_monthly.sort_values('date_block_num').groupby(['shop_id', 'item_category_id', 'item_id'])['item_cnt'].shift(lag)\n",
        "    # Fill the empty shifted features with 0\n",
        "    train_monthly[ft_name].fillna(0, inplace=True)"
      ],
      "execution_count": 0,
      "outputs": []
    },
    {
      "cell_type": "markdown",
      "metadata": {
        "id": "Vmyt5jQmlKkZ",
        "colab_type": "text"
      },
      "source": [
        "商品販売数の傾向"
      ]
    },
    {
      "cell_type": "code",
      "metadata": {
        "id": "ps43MRsllCdU",
        "colab_type": "code",
        "colab": {}
      },
      "source": [
        "train_monthly['item_trend'] = train_monthly['item_cnt']\n",
        "\n",
        "for lag in lag_list:\n",
        "    ft_name = ('item_cnt_shifted%s' % lag)\n",
        "    train_monthly['item_trend'] -= train_monthly[ft_name]\n",
        "\n",
        "train_monthly['item_trend'] /= len(lag_list) + 1"
      ],
      "execution_count": 0,
      "outputs": []
    },
    {
      "cell_type": "markdown",
      "metadata": {
        "id": "SO2EMmLhl9xo",
        "colab_type": "text"
      },
      "source": [
        "フィーチャエンジニアリング後のデータセット"
      ]
    },
    {
      "cell_type": "markdown",
      "metadata": {
        "id": "eKA88LsPnHrF",
        "colab_type": "text"
      },
      "source": [
        "学習/検証の分割将来的にテストが開始されることがわかっているので、学習/検証の分割で同じ分布をシミュレートするようにしてください。 最初の3〜28ブロック、検証は最後の5ブロック（29〜32）、テストはブロック33になります。フィーチャーを生成するために3か月のウィンドウを使用するため、最初の3か月は除外します。 そのため、最初の3ヶ月は実際には便利な機能がウィンドウ化されていません。"
      ]
    },
    {
      "cell_type": "code",
      "metadata": {
        "id": "JYmzkhhDmzic",
        "colab_type": "code",
        "outputId": "94c3836c-af9e-4af8-e5ab-f3d14e67fc0e",
        "colab": {
          "base_uri": "https://localhost:8080/",
          "height": 102
        }
      },
      "source": [
        "train_set = train_monthly.query('date_block_num >= 3 and date_block_num < 28').copy()\n",
        "validation_set = train_monthly.query('date_block_num >= 28 and date_block_num < 33').copy()\n",
        "test_set = train_monthly.query('date_block_num == 33').copy()\n",
        "\n",
        "train_set.dropna(subset=['item_cnt_month'], inplace=True)\n",
        "validation_set.dropna(subset=['item_cnt_month'], inplace=True)\n",
        "\n",
        "train_set.dropna(inplace=True)\n",
        "validation_set.dropna(inplace=True)\n",
        "\n",
        "print('Train set records:', train_set.shape[0])\n",
        "print('Validation set records:', validation_set.shape[0])\n",
        "print('Test set records:', test_set.shape[0])\n",
        "\n",
        "print('Train set records: %s (%.f%% of complete data)' % (train_set.shape[0], ((train_set.shape[0]/train_monthly.shape[0])*100)))\n",
        "print('Validation set records: %s (%.f%% of complete data)' % (validation_set.shape[0], ((validation_set.shape[0]/train_monthly.shape[0])*100)))"
      ],
      "execution_count": 23,
      "outputs": [
        {
          "output_type": "stream",
          "text": [
            "Train set records: 4946785\n",
            "Validation set records: 989412\n",
            "Test set records: 197879\n",
            "Train set records: 4946785 (74% of complete data)\n",
            "Validation set records: 989412 (15% of complete data)\n"
          ],
          "name": "stdout"
        }
      ]
    },
    {
      "cell_type": "code",
      "metadata": {
        "id": "-SBUCLNin22D",
        "colab_type": "code",
        "colab": {}
      },
      "source": [
        "# Shop mean encoding.\n",
        "gp_shop_mean = train_set.groupby(['shop_id']).agg({'item_cnt_month': ['mean']})\n",
        "gp_shop_mean.columns = ['shop_mean']\n",
        "gp_shop_mean.reset_index(inplace=True)\n",
        "# Item mean encoding.\n",
        "gp_item_mean = train_set.groupby(['item_id']).agg({'item_cnt_month': ['mean']})\n",
        "gp_item_mean.columns = ['item_mean']\n",
        "gp_item_mean.reset_index(inplace=True)\n",
        "# Shop with item mean encoding.\n",
        "gp_shop_item_mean = train_set.groupby(['shop_id', 'item_id']).agg({'item_cnt_month': ['mean']})\n",
        "gp_shop_item_mean.columns = ['shop_item_mean']\n",
        "gp_shop_item_mean.reset_index(inplace=True)\n",
        "# Year mean encoding.\n",
        "gp_year_mean = train_set.groupby(['year']).agg({'item_cnt_month': ['mean']})\n",
        "gp_year_mean.columns = ['year_mean']\n",
        "gp_year_mean.reset_index(inplace=True)\n",
        "# Month mean encoding.\n",
        "gp_month_mean = train_set.groupby(['month']).agg({'item_cnt_month': ['mean']})\n",
        "gp_month_mean.columns = ['month_mean']\n",
        "gp_month_mean.reset_index(inplace=True)\n",
        "\n",
        "# Add meand encoding features to train set.\n",
        "train_set = pd.merge(train_set, gp_shop_mean, on=['shop_id'], how='left')\n",
        "train_set = pd.merge(train_set, gp_item_mean, on=['item_id'], how='left')\n",
        "train_set = pd.merge(train_set, gp_shop_item_mean, on=['shop_id', 'item_id'], how='left')\n",
        "train_set = pd.merge(train_set, gp_year_mean, on=['year'], how='left')\n",
        "train_set = pd.merge(train_set, gp_month_mean, on=['month'], how='left')\n",
        "# Add meand encoding features to validation set.\n",
        "validation_set = pd.merge(validation_set, gp_shop_mean, on=['shop_id'], how='left')\n",
        "validation_set = pd.merge(validation_set, gp_item_mean, on=['item_id'], how='left')\n",
        "validation_set = pd.merge(validation_set, gp_shop_item_mean, on=['shop_id', 'item_id'], how='left')\n",
        "validation_set = pd.merge(validation_set, gp_year_mean, on=['year'], how='left')\n",
        "validation_set = pd.merge(validation_set, gp_month_mean, on=['month'], how='left')"
      ],
      "execution_count": 0,
      "outputs": []
    },
    {
      "cell_type": "code",
      "metadata": {
        "id": "eLhXlklHvbBF",
        "colab_type": "code",
        "colab": {}
      },
      "source": [
        "# Create train and validation sets and labels. \n",
        "X_train = train_set.drop(['item_cnt_month', 'date_block_num'], axis=1)\n",
        "Y_train = train_set['item_cnt_month'].astype(int)\n",
        "X_validation = validation_set.drop(['item_cnt_month', 'date_block_num'], axis=1)\n",
        "Y_validation = validation_set['item_cnt_month'].astype(int)"
      ],
      "execution_count": 0,
      "outputs": []
    },
    {
      "cell_type": "code",
      "metadata": {
        "id": "E0V396TOZ9OF",
        "colab_type": "code",
        "colab": {}
      },
      "source": [
        "# Integer features (used by catboost model).\n",
        "int_features = ['shop_id', 'item_id', 'year', 'month']\n",
        "\n",
        "X_train[int_features] = X_train[int_features].astype('int32')\n",
        "X_validation[int_features] = X_validation[int_features].astype('int32')"
      ],
      "execution_count": 0,
      "outputs": []
    },
    {
      "cell_type": "markdown",
      "metadata": {
        "id": "aNwDV6upaE4o",
        "colab_type": "text"
      },
      "source": [
        "テストセットを構築する\n",
        "\"date_block_num\" 34を予測したいので、テストセットはブロック33になり、予測はブロック34の値を反映するはずです。 つまり、ブロック34の値を予測したいので、ブロック33を使用します。"
      ]
    },
    {
      "cell_type": "code",
      "metadata": {
        "id": "TmDM_75saBgW",
        "colab_type": "code",
        "colab": {}
      },
      "source": [
        "latest_records = pd.concat([train_set, validation_set]).drop_duplicates(subset=['shop_id', 'item_id'], keep='last')\n",
        "X_test = pd.merge(test, latest_records, on=['shop_id', 'item_id'], how='left', suffixes=['', '_'])\n",
        "X_test['year'] = 2015\n",
        "X_test['month'] = 9\n",
        "X_test.drop('item_cnt_month', axis=1, inplace=True)\n",
        "X_test[int_features] = X_test[int_features].astype('int32')\n",
        "X_test = X_test[X_train.columns]"
      ],
      "execution_count": 0,
      "outputs": []
    },
    {
      "cell_type": "markdown",
      "metadata": {
        "id": "WwbKWuSkaf85",
        "colab_type": "text"
      },
      "source": [
        "欠損値を置き換える"
      ]
    },
    {
      "cell_type": "code",
      "metadata": {
        "id": "AKNfw1aNaWat",
        "colab_type": "code",
        "colab": {}
      },
      "source": [
        "sets = [X_train, X_validation, X_test]\n",
        "\n",
        "# This was taking too long.\n",
        "# Replace missing values with the median of each item.\n",
        "# for dataset in sets:\n",
        "#     for item_id in dataset['item_id'].unique():\n",
        "#         for column in dataset.columns:\n",
        "#             item_median = dataset[(dataset['item_id'] == item_id)][column].median()\n",
        "#             dataset.loc[(dataset[column].isnull()) & (dataset['item_id'] == item_id), column] = item_median\n",
        "\n",
        "# Replace missing values with the median of each shop.            \n",
        "for dataset in sets:\n",
        "    for shop_id in dataset['shop_id'].unique():\n",
        "        for column in dataset.columns:\n",
        "            shop_median = dataset[(dataset['shop_id'] == shop_id)][column].median()\n",
        "            dataset.loc[(dataset[column].isnull()) & (dataset['shop_id'] == shop_id), column] = shop_median\n",
        "            \n",
        "# Fill remaining missing values on test set with mean.\n",
        "X_test.fillna(X_test.mean(), inplace=True)"
      ],
      "execution_count": 0,
      "outputs": []
    },
    {
      "cell_type": "code",
      "metadata": {
        "id": "VdeUovEKaoce",
        "colab_type": "code",
        "colab": {}
      },
      "source": [
        "# I'm dropping \"item_category_id\", we don't have it on test set and would be a little hard to create categories for items that exist only on test set.\n",
        "X_train.drop(['item_category_id'], axis=1, inplace=True)\n",
        "X_validation.drop(['item_category_id'], axis=1, inplace=True)\n",
        "X_test.drop(['item_category_id'], axis=1, inplace=True)"
      ],
      "execution_count": 0,
      "outputs": []
    },
    {
      "cell_type": "markdown",
      "metadata": {
        "id": "PLB35Z0wcAZs",
        "colab_type": "text"
      },
      "source": [
        "データツリーベースモデルのモデリング\n",
        "Catboost"
      ]
    },
    {
      "cell_type": "code",
      "metadata": {
        "id": "3z1oDFRgb1E8",
        "colab_type": "code",
        "colab": {
          "base_uri": "https://localhost:8080/",
          "height": 187
        },
        "outputId": "f90ef9bb-d52a-4507-8b13-3df720d2189a"
      },
      "source": [
        "cat_features = [0, 1, 7, 8]\n",
        "\n",
        "catboost_model = CatBoostRegressor(\n",
        "    iterations=400,\n",
        "    max_ctr_complexity=4,\n",
        "    random_seed=0,\n",
        "    od_type='Iter',\n",
        "    od_wait=25,\n",
        "    verbose=50,\n",
        "    depth=2\n",
        ")\n",
        "\n",
        "catboost_model.fit(\n",
        "    X_train, Y_train,\n",
        "    cat_features=cat_features,\n",
        "    eval_set=(X_validation, Y_validation)\n",
        ")"
      ],
      "execution_count": 30,
      "outputs": [
        {
          "output_type": "stream",
          "text": [
            "0:\tlearn: 0.9370777\ttest: 0.9515581\tbest: 0.9515581 (0)\ttotal: 2.95s\tremaining: 19m 38s\n",
            "50:\tlearn: 0.7286583\ttest: 0.8090006\tbest: 0.8090006 (50)\ttotal: 1m 54s\tremaining: 13m 1s\n",
            "100:\tlearn: 0.6947283\ttest: 0.7959009\tbest: 0.7959009 (100)\ttotal: 3m 43s\tremaining: 11m 2s\n",
            "Stopped by overfitting detector  (25 iterations wait)\n",
            "\n",
            "bestTest = 0.7955796053\n",
            "bestIteration = 105\n",
            "\n",
            "Shrink model to first 106 iterations.\n"
          ],
          "name": "stdout"
        },
        {
          "output_type": "execute_result",
          "data": {
            "text/plain": [
              "<catboost.core.CatBoostRegressor at 0x7f494bad20b8>"
            ]
          },
          "metadata": {
            "tags": []
          },
          "execution_count": 30
        }
      ]
    },
    {
      "cell_type": "code",
      "metadata": {
        "id": "kDnYChzucOTr",
        "colab_type": "code",
        "colab": {
          "base_uri": "https://localhost:8080/",
          "height": 34
        },
        "outputId": "6085175a-137a-4330-c050-8fdf99284336"
      },
      "source": [
        "print('Model params:', catboost_model.get_params())"
      ],
      "execution_count": 31,
      "outputs": [
        {
          "output_type": "stream",
          "text": [
            "Model params: {'max_ctr_complexity': 4, 'verbose': 50, 'random_seed': 0, 'od_type': 'Iter', 'od_wait': 25, 'loss_function': 'RMSE', 'depth': 2, 'iterations': 400}\n"
          ],
          "name": "stdout"
        }
      ]
    },
    {
      "cell_type": "code",
      "metadata": {
        "id": "VTQGCHEVvr0r",
        "colab_type": "code",
        "colab": {}
      },
      "source": [
        "catboost_train_pred = catboost_model.predict(X_train)\n",
        "catboost_val_pred = catboost_model.predict(X_validation)\n",
        "catboost_test_pred = catboost_model.predict(X_test)"
      ],
      "execution_count": 0,
      "outputs": []
    },
    {
      "cell_type": "code",
      "metadata": {
        "id": "HeU1YOHwwAXr",
        "colab_type": "code",
        "colab": {
          "base_uri": "https://localhost:8080/",
          "height": 51
        },
        "outputId": "2b593fba-06f4-44c3-f6c2-7f144faaa375"
      },
      "source": [
        "print('Train rmse:', np.sqrt(mean_squared_error(Y_train, catboost_train_pred)))\n",
        "print('Validation rmse:', np.sqrt(mean_squared_error(Y_validation, catboost_val_pred)))"
      ],
      "execution_count": 33,
      "outputs": [
        {
          "output_type": "stream",
          "text": [
            "Train rmse: 0.6933245530069757\n",
            "Validation rmse: 0.7955796052962855\n"
          ],
          "name": "stdout"
        }
      ]
    },
    {
      "cell_type": "markdown",
      "metadata": {
        "id": "AaK69xHfxmcY",
        "colab_type": "text"
      },
      "source": [
        "XGBoost"
      ]
    },
    {
      "cell_type": "code",
      "metadata": {
        "id": "adUbOtJXwKyh",
        "colab_type": "code",
        "colab": {}
      },
      "source": [
        "# Use only part of features on XGBoost.\n",
        "xgb_features = ['item_cnt','item_cnt_mean', 'item_cnt_std', 'item_cnt_shifted1', \n",
        "                'item_cnt_shifted2', 'item_cnt_shifted3', 'shop_mean', \n",
        "                'shop_item_mean', 'item_trend', 'mean_item_cnt']\n",
        "xgb_train = X_train[xgb_features]\n",
        "xgb_val = X_validation[xgb_features]\n",
        "xgb_test = X_test[xgb_features]"
      ],
      "execution_count": 0,
      "outputs": []
    },
    {
      "cell_type": "code",
      "metadata": {
        "id": "78gxeUUqwzqr",
        "colab_type": "code",
        "colab": {}
      },
      "source": [
        ""
      ],
      "execution_count": 0,
      "outputs": []
    }
  ]
}